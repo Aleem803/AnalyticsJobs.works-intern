{
 "cells": [
  {
   "cell_type": "code",
   "execution_count": 1,
   "metadata": {},
   "outputs": [
    {
     "data": {
      "text/plain": [
       "b'<!DOCTYPE html>\\n<html lang=\\'en\\' xmlns:fb=\\'http://www.facebook.com/2008/fbml\\' xmlns:og=\\'http://opengraphprotocol.org/schema/\\'>\\n<head>\\n<title>Romance Book Reviews | BookPage</title>\\n<meta name=\"description\" content=\"Romance book recommendations of the best new books and more.\">\\n<meta name=\"keywords\" content=\"book reviews, books and literature, writing and writers\">\\n<link rel=\"canonical\" href=\"https://bookpage.com/reviews?book_genre=romance&amp;page=1\">\\n<meta property=\"og:site_name\" content=\"BookPage.com\">\\n<meta property=\"og:title\" content=\"Romance Book Reviews\">\\n<meta property=\"og:description\" content=\"Romance book recommendations of the best new books and more.\">\\n<meta property=\"og:type\" content=\"website\">\\n<meta property=\"og:url\" content=\"https://bookpage.com/reviews?book_genre=romance&amp;page=1\">\\n<meta property=\"og:image\" content=\"//www.bookpage.com/default_image.jpg\">\\n<meta name=\"twitter:card\" content=\"summary\">\\n<meta name=\"twitter:site\" content=\"@bookpage\">\\n<meta name=\"twitter:creator\" content=\"@bookpage\">\\n<meta name=\"robots\" content=\"index,follow\">\\n<meta name=\"application-name\" content=\"BookPage\">\\n<meta name=\"msapplication-tooltip\" content=\"BookPage\">\\n<meta name=\"msapplication-starturl\" content=\"https://bookpage.com/\">\\n<meta name=\"msapplication-task\" content=\"name=BookPage;action-uri=https://bookpage.com;icon-uri=https://bookpage.com/favicon.ico\">\\n<meta name=\"msapplication-task\" content=\"name=BookPage on Twitter;action-uri=http://twitter.com/bookpage;icon-uri=http://twitter.com/favicon.ico\">\\n<meta name=\"msapplication-task\" content=\"name=BookPage on Facebook;action-uri=https://www.facebook.com/pages/BookPage/116675947874;icon-uri=https://s-static.ak.facebook.com/rsrc.php/yi/r/q9U99v3_saj.ico\">\\n<meta name=\"msapplication-task\" content=\"name=BookPage on Pinterest;action-uri=http://www.pinterest.com/bookpage/;icon-uri=http://www.pinterest.com/favicon.ico\">\\n<meta name=\"msapplication-task\" content=\"name=BookPage on YouTube;action-uri=http://www.youtube.com/BookPagedotcom;icon-uri=http://www.youtube.com/favicon.ico\">\\n<meta charset=\\'utf-8\\'>\\n<meta content=\\'IE=Edge,chrome=1\\' http-equiv=\\'X-UA-Compatible\\'>\\n<meta content=\\'width=device-width, initial-scale=1.0\\' name=\\'viewport\\'>\\n<meta name=\"csrf-param\" content=\"authenticity_token\" />\\n<meta name=\"csrf-token\" content=\"FlwwmAd2g3Hc2/dBXGwivrj70UPNZi2U7VQGOWckamDa29OebD/jSySrkMH5J4kVfp7t+ZZpom/GmZ4z3Vtuug==\" />\\n<!-- Le HTML5 shim, for IE6-8 support of HTML elements -->\\n<!--[if lt IE 9]>\\n<script src=\"//html5shim.googlecode.com/svn/trunk/html5.js\"></script>\\n<![endif]-->\\n<link rel=\"stylesheet\" media=\"all\" href=\"/assets/application-6b8add37da9bf38104e452cfbf0a2a39ae3032f902f8d069ac9550ca7f01a489.css\" />\\n<link href=\\'/apple-touch-icon-180x180.png\\' rel=\\'apple-touch-icon\\' sizes=\\'180x180\\'>\\n<link href=\\'/apple-touch-icon-152x152.png\\' rel=\\'apple-touch-icon\\' sizes=\\'152x152\\'>\\n<link href=\\'/apple-touch-icon-144x144.png\\' rel=\\'apple-touch-icon\\' sizes=\\'144x144\\'>\\n<link href=\\'/apple-touch-icon-120x120.png\\' rel=\\'apple-touch-icon\\' sizes=\\'120x120\\'>\\n<link href=\\'/apple-touch-icon-114x114.png\\' rel=\\'apple-touch-icon\\' sizes=\\'114x114\\'>\\n<link href=\\'/apple-touch-icon-76x76.png\\' rel=\\'apple-touch-icon\\' sizes=\\'76x76\\'>\\n<link href=\\'/apple-touch-icon-72x72.png\\' rel=\\'apple-touch-icon\\' sizes=\\'72x72\\'>\\n<link href=\\'/apple-touch-icon.png\\' rel=\\'apple-touch-icon\\'>\\n<link href=\\'/favicon.ico\\' rel=\\'shortcut icon\\'>\\n<meta content=\\'BookPage\\' name=\\'apple-mobile-web-app-title\\'>\\n<link rel=\"alternate\" type=\"application/atom+xml\" title=\"ATOM\" href=\"/feed\" />\\n<link rel=\"alternate\" type=\"application/rss+xml\" title=\"RSS\" href=\"/feed.rss\" />\\n<link href=\\'//fonts.googleapis.com/css?family=Open+Sans:400,600,700,800\\' rel=\\'stylesheet\\' type=\\'text/css\\'>\\n<link href=\\'//fonts.googleapis.com/css?family=Open+Sans+Condensed:700\\' rel=\\'stylesheet\\' type=\\'text/css\\'>\\n<script async=\\'async\\' src=\\'https://www.googletagservices.com/tag/js/gpt.js\\'></script>\\n<script>\\n var googletag = googletag || {};\\n googletag.cmd = googletag.cmd || [];\\n</script>\\n\\n<script>\\n googletag.cmd.push(function() {\\n   googletag.defineSlot(\\'/4655871/ATL\\', [970, 250], \\'div-gpt-ad-1515619791087-0\\').addService(googletag.pubads());\\n   googletag.pubads().enableSingleRequest();\\n   googletag.enableServices();\\n });\\n</script>\\n\\n<script src=\\'//d3c3cq33003psk.cloudfront.net/opentag-123939-1670854.js\\' async defer></script><script type=\"text/javascript\">\\n var googletag = googletag || {};\\ngoogletag.cmd = googletag.cmd || [];\\n(function() {\\nvar gads = document.createElement(\"script\");\\ngads.async = true;\\ngads.type = \"text/javascript\";\\nvar useSSL = \"https:\" == document.location.protocol;\\ngads.src = (useSSL ? \"https:\" : \"http:\") + \"//www.googletagservices.com/tag/js/gpt.js\";\\nvar node =document.getElementsByTagName(\"script\")[0];\\nnode.parentNode.insertBefore(gads, node);\\n})();\\n</script>\\n\\n<!-- Global site tag (gtag.js) - Google Analytics -->\\n<script async src=\"https://www.googletagmanager.com/gtag/js?id=GTM-P85NP22\"></script>\\n<script>\\n  window.dataLayer = window.dataLayer || [];\\n  function gtag(){dataLayer.push(arguments);}\\n  gtag(\\'js\\', new Date());\\n\\n  gtag(\\'config\\', \\'GTM-P85NP22\\');\\n</script>\\n\\n<script>\\n  (function(i,s,o,g,r,a,m){i[\\'GoogleAnalyticsObject\\']=r;i[r]=i[r]||function(){\\n  (i[r].q=i[r].q||[]).push(arguments)},i[r].l=1*new Date();a=s.createElement(o),\\n  m=s.getElementsByTagName(o)[0];a.async=1;a.src=g;m.parentNode.insertBefore(a,m)\\n  })(window,document,\\'script\\',\\'//www.google-analytics.com/analytics.js\\',\\'ga\\');\\n\\n  ga(\\'create\\', \\'UA-9261499-1\\', \\'auto\\');\\n  ga(\\'send\\', \\'pageview\\');\\n</script>\\n<!-- Google Tag Manager -->\\n<script>(function(w,d,s,l,i){w[l]=w[l]||[];w[l].push({\\'gtm.start\\':\\nnew Date().getTime(),event:\\'gtm.js\\'});var f=d.getElementsByTagName(s)[0],\\nj=d.createElement(s),dl=l!=\\'dataLayer\\'?\\'&l=\\'+l:\\'\\';j.async=true;j.src=\\n\\'https://www.googletagmanager.com/gtm.js?id=\\'+i+dl;f.parentNode.insertBefore(j,f);\\n})(window,document,\\'script\\',\\'dataLayer\\',\\'GTM-P85NP22\\');</script>\\n<!-- End Google Tag Manager -->\\n\\n<!-- Facebook Pixel Code -->\\n<script>\\n!function(f,b,e,v,n,t,s){if(f.fbq)return;n=f.fbq=function(){n.callMethod?\\nn.callMethod.apply(n,arguments):n.queue.push(arguments)};if(!f._fbq)f._fbq=n;\\nn.push=n;n.loaded=!0;n.version=\\'2.0\\';n.queue=[];t=b.createElement(e);t.async=!0;\\nt.src=v;s=b.getElementsByTagName(e)[0];s.parentNode.insertBefore(t,s)}(window,\\ndocument,\\'script\\',\\'//connect.facebook.net/en_US/fbevents.js\\');\\n\\nfbq(\\'init\\', \\'1746518832242335\\');\\nfbq(\\'track\\', \"PageView\");</script>\\n<noscript><img height=\"1\" width=\"1\" style=\"display:none\"\\nsrc=\"https://www.facebook.com/tr?id=1746518832242335&ev=PageView&noscript=1\"\\n/></noscript>\\n<!-- End Facebook Pixel Code -->\\n\\n<script>\\n    (function(h,o,t,j,a,r){\\n        h.hj=h.hj||function(){(h.hj.q=h.hj.q||[]).push(arguments)};\\n        h._hjSettings={hjid:1209228,hjsv:6};\\n        a=o.getElementsByTagName(\\'head\\')[0];\\n        r=o.createElement(\\'script\\');r.async=1;\\n        r.src=t+h._hjSettings.hjid+j+h._hjSettings.hjsv;\\n        a.appendChild(r);\\n    })(window,document,\\'https://static.hotjar.com/c/hotjar-\\',\\'.js?sv=\\');\\n</script>\\n\\n<!-- Facebook Pixel Code -->\\n<script>(function(){var s = document.createElement(\\'script\\'),e = ! document.body ? document.querySelector(\\'head\\') : document.body;s.src = \\'https://acsbapp.com/apps/app/assets/js/acsb.js\\';s.async = s.defer = true;s.onload = function(){acsbJS.init({statementLink : \\'\\',feedbackLink : \\'\\',footerHtml : \\'\\',hideMobile : false,hideTrigger : false,language : \\'en\\',position : \\'right\\',leadColor : \\'#146FF8\\',triggerColor : \\'#146FF8\\',triggerRadius : \\'50%\\',triggerPositionX : \\'right\\',triggerPositionY : \\'bottom\\',triggerIcon : \\'default\\',triggerSize : \\'medium\\',triggerOffsetX : 20,triggerOffsetY : 20,mobile : {triggerSize : \\'small\\',triggerPositionX : \\'right\\',triggerPositionY : \\'center\\',triggerOffsetX : 0,triggerOffsetY : 0,triggerRadius : \\'50%\\'}});};e.appendChild(s);}());</script>\\n<!-- End Facebook Pixel Code -->\\n\\n</head>\\n\\n<body>\\n<!-- Google Tag Manager -->\\n<noscript><iframe src=\"//www.googletagmanager.com/ns.html?id=GTM-T5GJ4V\"\\nheight=\"0\" width=\"0\" style=\"display:none;visibility:hidden\"></iframe></noscript>\\n<script>(function(w,d,s,l,i){w[l]=w[l]||[];w[l].push({\\'gtm.start\\':\\nnew Date().getTime(),event:\\'gtm.js\\'});var f=d.getElementsByTagName(s)[0],\\nj=d.createElement(s),dl=l!=\\'dataLayer\\'?\\'&l=\\'+l:\\'\\';j.async=true;j.src=\\n\\'//www.googletagmanager.com/gtm.js?id=\\'+i+dl;f.parentNode.insertBefore(j,f);\\n})(window,document,\\'script\\',\\'dataLayer\\',\\'GTM-T5GJ4V\\');</script>\\n<!-- End Google Tag Manager -->\\n\\n<!-- Google Tag Manager (noscript) -->\\n<noscript><iframe src=\"https://www.googletagmanager.com/ns.html?id=GTM-P85NP22\"\\nheight=\"0\" width=\"0\" style=\"display:none;visibility:hidden\"></iframe></noscript>\\n<!-- End Google Tag Manager (noscript) -->\\n\\n<!-- google ads -->\\n<script data-ad-client=\"ca-pub-1933750090033622\" async src=\"https://pagead2.googlesyndication.com/pagead/js/adsbygoogle.js\"></script>\\n\\n<div class=\\'container-fluid\\'>\\n<div class=\\'header\\'>\\n<div class=\\'navbar navbar-default navbar-fixed-top bp-nav\\'>\\n<div class=\\'row-fluid subscribe\\'>\\n<a class=\\'button\\' href=\\'https://signup.e2ma.net/signup/1896962/28888/\\' onclick=\"window.open(\\'https://signup.e2ma.net/signup/1896962/28888/\\', \\'signup\\', \\'menubar=no, location=no, toolbar=no, scrollbars=yes, height=800, width=500\\'); return false;\">Sign up for our newsletters!</a>\\n</div>\\n<div class=\\'navbar-inner\\'>\\n<a class=\\'btn btn-navbar\\' data-target=\\'.nav-collapse\\' data-toggle=\\'collapse\\'>\\n<i class=\\'zmdi zmdi-menu\\'></i>\\n</a>\\n<a href=\\'/\\'>\\n<img class=\"brand\" src=\"/assets/logos/logo_large-d48d8b33b2656c699a6815c500d328a7d0ee40edfde8536e957bfb739cfbf611.png\" alt=\"Logo large\" />\\n</a>\\n<div class=\\'nav-collapse\\'>\\n<ul class=\\'nav bp-navtext\\'>\\n<li class=\\'\\'><a href=\"/print-edition\">Print Edition</a></li>\\n<li class=\\'current dropdown\\'>\\n<a aria-expanded=\\'false\\' aria-haspopup=\\'true\\' class=\\'dropdown-toggle\\' data-toggle=\\'dropdown\\' href=\\'/reviews\\' role=\\'button\\'>Book Reviews</a>\\n<ul class=\\'dropdown-menu\\'>\\n<li><a href=\"/reviews\">All Reviews</a></li>\\n<li><a href=\"/reviews?book_genre=fiction&amp;page=1\">Fiction</a></li>\\n<li><a href=\"/reviews?book_genre=nonfiction&amp;page=1\">Nonfiction</a></li>\\n<li><a href=\"/reviews?book_genre=children_s&amp;page=1\">Children&#39;s</a></li>\\n<li><a href=\"/reviews?book_genre=ya&amp;page=1\">YA</a></li>\\n<li><a href=\"/reviews?book_genre=mystery_suspense&amp;page=1\">Mystery</a></li>\\n<li><a href=\"/reviews?book_genre=romance&amp;page=1\">Romance</a></li>\\n</ul>\\n</li>\\n<li class=\\'\\'><a href=\"/interviews\">Interviews</a></li>\\n<li class=\\'\\'><a href=\"/features\">Features</a></li>\\n<li class=\\'nav-last dropdown\\'>\\n<a aria-expanded=\\'false\\' aria-haspopup=\\'true\\' class=\\'dropdown-toggle\\' data-toggle=\\'dropdown\\' href=\\'/reviews\\' role=\\'button\\'>Subscribe</a>\\n<ul class=\\'dropdown-menu\\'>\\n<li><a target=\"_blank\" href=\"http://www.subscriptions.bookpage.com/library\">Library</a></li>\\n<li><a target=\"_blank\" href=\"http://www.subscriptions.bookpage.com/bookstore\">Bookstore</a></li>\\n<li><a target=\"_blank\" href=\"http://MIurl.cc/Z6eD1pmI\">Individual</a></li>\\n</ul>\\n</li>\\n<div class=\\'search-box\\'>\\n<form class=\"search-form\" action=\"/search/\" accept-charset=\"UTF-8\" method=\"get\"><input name=\"utf8\" type=\"hidden\" value=\"&#x2713;\" />\\n<div class=\\'input-prepend\\'>\\n<span class=\\'add-on add-on-custom\\'>\\n<i class=\\'fa fa-search\\'></i>\\n</span>\\n<input type=\"text\" name=\"query\" id=\"query\" class=\"input-medium query-input\" placeholder=\"Search BookPage\" />\\n</div>\\n</form>\\n\\n</div>\\n\\n</ul>\\n</div>\\n</div>\\n</div>\\n\\n</div>\\n<div class=\\'page-content\\'>\\n<!-- Main Content -->\\n<div class=\\'row-fluid articles-index\\'>\\n<div class=\\'row-fluid\\'>\\n<div class=\\'search-bar\\'>\\n<div class=\\'breadcrumbs\\'>\\n<p>\\n<a href=\"/\">Home</a>\\n&nbsp;<i class=\\'zmdi zmdi-chevron-right\\'></i>\\n<h1 class=\\'sans\\'>\\nBook reviews\\n</h1>\\n</p>\\n</div>\\n<br class=\\'clear\\'>\\n</div>\\n\\n</div>\\n<div class=\\'row-fluid\\'>\\n<!-- Articles Column -->\\n<div class=\\'span9\\'>\\n<div class=\\'bp-well\\'>\\n<div class=\\'row-fluid article-row\\'>\\n<div class=\\'bp-block article-info\\'>\\n<div class=\\'article-list-left\\'>\\n<a href=\"/reviews/25615-olivia-dade-spoiler-alert-romance\"><img src=\"https://t1.bookpage.com/books/images/4717276222699a26446375d08b335025/medium.jpg\" alt=\"Medium\" /></a>\\n</div>\\n<div class=\\'flex-article-content\\'>\\n<h4 class=\\'italic\\'>\\n<a href=\"/reviews/25615-olivia-dade-spoiler-alert-romance\"> <span style=\\'font-style:normal;\\'>&#x2605 </span>Spoiler Alert</a>\\n</h4>\\n<p class=\\'sans bold\\'>\\nOlivia Dade\\n</p>\\n<p class=\\'genre-links hidden-phone\\'>\\n<a href=\"/search?book_genre=romance\">Romance</a>\\n / \\n<a href=\"/search?book_genre=contemporary_romance\">Contemporary Romance</a>\\n</p>\\n\\n<p class=\\'excerpt\\'>\\nIndie publishing favorite Olivia Dade\\xe2\\x80\\x99s Avon debut,\\xc2\\xa0Spoiler Alert, is a funny and poignant triumph that defies expectation. On the surface, April Whittier and Marcus Caster-Rupp are opposites. Industry insiders and fans alike appreciate the good looks of Marcus, an actor on hit TV...\\n</p>\\n<div class=\\'read-full\\'>\\n<a href=\"/reviews/25615-olivia-dade-spoiler-alert-romance\">Read the Review <i class=\\'zmdi zmdi-chevron-right\\'></i></a>\\n</div>\\n</div>\\n<br class=\\'clear\\'>\\n</div>\\n\\n</div>\\n<div class=\\'row-fluid article-row\\'>\\n<div class=\\'bp-block article-info\\'>\\n<div class=\\'article-list-left\\'>\\n<a href=\"/reviews/25591-tessa-bailey-tools-engagement-romance\"><img src=\"https://t1.bookpage.com/books/images/ff03cd4d60f0ab7c2d29a10e49e9fe65/medium.jpg\" alt=\"Medium\" /></a>\\n</div>\\n<div class=\\'flex-article-content\\'>\\n<h4 class=\\'italic\\'>\\n<a href=\"/reviews/25591-tessa-bailey-tools-engagement-romance\">Tools of Engagement</a>\\n</h4>\\n<p class=\\'sans bold\\'>\\nTessa Bailey\\n</p>\\n<p class=\\'genre-links hidden-phone\\'>\\n<a href=\"/search?book_genre=romance\">Romance</a>\\n / \\n<a href=\"/search?book_genre=contemporary_romance\">Contemporary Romance</a>\\n</p>\\n\\n<p class=\\'excerpt\\'>\\n<strong>Tools of Engagement</strong> is the third and final book in Tessa Bailey&rsquo;s contemporary Hot &amp; Hammered series, and it&rsquo;s every bit as fun and sexy as her readers have come to expect.\\n</p>\\n<div class=\\'read-full\\'>\\n<a href=\"/reviews/25591-tessa-bailey-tools-engagement-romance\">Read the Review <i class=\\'zmdi zmdi-chevron-right\\'></i></a>\\n</div>\\n</div>\\n<br class=\\'clear\\'>\\n</div>\\n\\n</div>\\n<div class=\\'row-fluid article-row\\'>\\n<div class=\\'bp-block article-info\\'>\\n<div class=\\'article-list-left\\'>\\n<a href=\"/reviews/25502-julia-london-you-lucky-dog-romance\"><img src=\"https://t1.bookpage.com/books/images/efa2743310b92ca38f24a0e94f3bd7f2/medium.jpg\" alt=\"Medium\" /></a>\\n</div>\\n<div class=\\'flex-article-content\\'>\\n<h4 class=\\'italic\\'>\\n<a href=\"/reviews/25502-julia-london-you-lucky-dog-romance\">You Lucky Dog</a>\\n</h4>\\n<p class=\\'sans bold\\'>\\nJulia London\\n</p>\\n<p class=\\'genre-links hidden-phone\\'>\\n<a href=\"/search?book_genre=romance\">Romance</a>\\n / \\n<a href=\"/search?book_genre=contemporary_romance\">Contemporary Romance</a>\\n</p>\\n\\n<p class=\\'excerpt\\'>\\nA series of unfortunate events lead to a meet-disaster in Julia London&rsquo;s affecting and ebullient romantic comedy <strong>You Lucky Dog</strong>.\\n</p>\\n<div class=\\'read-full\\'>\\n<a href=\"/reviews/25502-julia-london-you-lucky-dog-romance\">Read the Review <i class=\\'zmdi zmdi-chevron-right\\'></i></a>\\n</div>\\n</div>\\n<br class=\\'clear\\'>\\n</div>\\n\\n</div>\\n<div class=\\'row-fluid article-row\\'>\\n<div class=\\'bp-block article-info\\'>\\n<div class=\\'article-list-left\\'>\\n<a href=\"/reviews/25497-sabrina-jeffries-who-wants-to-marry-duke-romance\"><img src=\"https://t1.bookpage.com/books/images/23dd2c745be502382ed8bb97f981368f/medium.jpg\" alt=\"Medium\" /></a>\\n</div>\\n<div class=\\'flex-article-content\\'>\\n<h4 class=\\'italic\\'>\\n<a href=\"/reviews/25497-sabrina-jeffries-who-wants-to-marry-duke-romance\">Who Wants to Marry a Duke</a>\\n</h4>\\n<p class=\\'sans bold\\'>\\nSabrina Jeffries\\n</p>\\n<p class=\\'genre-links hidden-phone\\'>\\n<a href=\"/search?book_genre=romance\">Romance</a>\\n / \\n<a href=\"/search?book_genre=historical_romance\">Historical Romance</a>\\n</p>\\n\\n<p class=\\'excerpt\\'>\\nVeteran author of Regency romances Sabrina Jeffries is back with the third installment of her fun Duke Dynasty series, <strong>Who Wants to Marry A Duke</strong>.\\n</p>\\n<div class=\\'read-full\\'>\\n<a href=\"/reviews/25497-sabrina-jeffries-who-wants-to-marry-duke-romance\">Read the Review <i class=\\'zmdi zmdi-chevron-right\\'></i></a>\\n</div>\\n</div>\\n<br class=\\'clear\\'>\\n</div>\\n\\n</div>\\n<div class=\\'row-fluid article-row\\'>\\n<div class=\\'bp-block article-info\\'>\\n<div class=\\'article-list-left\\'>\\n<a href=\"/reviews/25499-mary-balogh-someone-to-romance-romance\"><img src=\"https://t1.bookpage.com/books/images/ba94a6ef9db11075488a65d82f96baf8/medium.jpg\" alt=\"Medium\" /></a>\\n</div>\\n<div class=\\'flex-article-content\\'>\\n<h4 class=\\'italic\\'>\\n<a href=\"/reviews/25499-mary-balogh-someone-to-romance-romance\"> <span style=\\'font-style:normal;\\'>&#x2605 </span>Someone to Romance</a>\\n</h4>\\n<p class=\\'sans bold\\'>\\nMary Balogh\\n</p>\\n<p class=\\'genre-links hidden-phone\\'>\\n<a href=\"/search?book_genre=romance\">Romance</a>\\n / \\n<a href=\"/search?book_genre=historical_romance\">Historical Romance</a>\\n</p>\\n\\n<p class=\\'excerpt\\'>\\nMoments after laying eyes on Lady Jessica Archer, Gabriel Thorne decides that she is the woman he will marry. But this isn&rsquo;t love at first sight. It&rsquo;s not even like at first sight.\\n</p>\\n<div class=\\'read-full\\'>\\n<a href=\"/reviews/25499-mary-balogh-someone-to-romance-romance\">Read the Review <i class=\\'zmdi zmdi-chevron-right\\'></i></a>\\n</div>\\n</div>\\n<br class=\\'clear\\'>\\n</div>\\n\\n</div>\\n<div class=\\'row-fluid article-row\\'>\\n<div class=\\'bp-block article-info\\'>\\n<div class=\\'article-list-left\\'>\\n<a href=\"/reviews/25426-alexis-daria-you-had-me-at-hola-romance\"><img src=\"https://t1.bookpage.com/books/images/338fb167fa08fbdcfe55959b46ca6008/medium.jpg\" alt=\"Medium\" /></a>\\n</div>\\n<div class=\\'flex-article-content\\'>\\n<h4 class=\\'italic\\'>\\n<a href=\"/reviews/25426-alexis-daria-you-had-me-at-hola-romance\">You Had Me at Hola</a>\\n</h4>\\n<p class=\\'sans bold\\'>\\nAlexis Daria\\n</p>\\n<p class=\\'genre-links hidden-phone\\'>\\n<a href=\"/search?book_genre=romance\">Romance</a>\\n / \\n<a href=\"/search?book_genre=contemporary_romance\">Contemporary Romance</a>\\n</p>\\n\\n<p class=\\'excerpt\\'>\\nHigh drama isn\\xe2\\x80\\x99t just soap opera star Jasmine Lin Rodriguez\\xe2\\x80\\x99s day job, it\\xe2\\x80\\x99s also her life in Alexis Daria\\xe2\\x80\\x99s You Had Me at Hola. After getting her broken heart splashed over all the tabloid covers, she\\xe2\\x80\\x99s restrategized and plans to lead a man-free, drama-free,...\\n</p>\\n<div class=\\'read-full\\'>\\n<a href=\"/reviews/25426-alexis-daria-you-had-me-at-hola-romance\">Read the Review <i class=\\'zmdi zmdi-chevron-right\\'></i></a>\\n</div>\\n</div>\\n<br class=\\'clear\\'>\\n</div>\\n\\n</div>\\n<div class=\\'row-fluid article-row\\'>\\n<div class=\\'bp-block article-info\\'>\\n<div class=\\'article-list-left\\'>\\n<a href=\"/reviews/25389-elle-wright-way-you-tempt-me-romance\"><img src=\"https://t1.bookpage.com/books/images/749c0ad52eea0c45aac733b308d001da/medium.jpg\" alt=\"Medium\" /></a>\\n</div>\\n<div class=\\'flex-article-content\\'>\\n<h4 class=\\'italic\\'>\\n<a href=\"/reviews/25389-elle-wright-way-you-tempt-me-romance\">The Way You Tempt Me</a>\\n</h4>\\n<p class=\\'sans bold\\'>\\nElle Wright\\n</p>\\n<p class=\\'genre-links hidden-phone\\'>\\n<a href=\"/search?book_genre=romance\">Romance</a>\\n / \\n<a href=\"/search?book_genre=contemporary_romance\">Contemporary Romance</a>\\n</p>\\n\\n<p class=\\'excerpt\\'>\\nElle Wright kicks off her new Pure Talent series with a bang in The Way You Tempt Me. This friends-to-lovers contemporary romance is sexy, addictive and deliciously dramatic. Xavier Starks is the heir apparent for the new sports division of his family\\xe2\\x80\\x99s talent agency, Pure Talent. As a...\\n</p>\\n<div class=\\'read-full\\'>\\n<a href=\"/reviews/25389-elle-wright-way-you-tempt-me-romance\">Read the Review <i class=\\'zmdi zmdi-chevron-right\\'></i></a>\\n</div>\\n</div>\\n<br class=\\'clear\\'>\\n</div>\\n\\n</div>\\n<div class=\\'row-fluid article-row\\'>\\n<div class=\\'bp-block article-info\\'>\\n<div class=\\'article-list-left\\'>\\n<a href=\"/reviews/25382-milla-vane-touch-snow-stone-romance\"><img src=\"https://t1.bookpage.com/books/images/0a97ad351bf76b6559339be03b9402a4/medium.jpg\" alt=\"Medium\" /></a>\\n</div>\\n<div class=\\'flex-article-content\\'>\\n<h4 class=\\'italic\\'>\\n<a href=\"/reviews/25382-milla-vane-touch-snow-stone-romance\">A Touch of Stone and Snow</a>\\n</h4>\\n<p class=\\'sans bold\\'>\\nMilla Vane\\n</p>\\n<p class=\\'genre-links hidden-phone\\'>\\n<a href=\"/search?book_genre=romance\">Romance</a>\\n / \\n<a href=\"/search?book_genre=fantasy_romance\">Fantasy Romance</a>\\n</p>\\n\\n<p class=\\'excerpt\\'>\\n<strong>A Touch of Stone and Snow&nbsp;</strong>is a grand and sweeping fantasy romance, an absorbing and story-rich tome of warring kingdoms and dangerous dragons.\\n</p>\\n<div class=\\'read-full\\'>\\n<a href=\"/reviews/25382-milla-vane-touch-snow-stone-romance\">Read the Review <i class=\\'zmdi zmdi-chevron-right\\'></i></a>\\n</div>\\n</div>\\n<br class=\\'clear\\'>\\n</div>\\n\\n</div>\\n<div class=\\'row-fluid article-row\\'>\\n<div class=\\'bp-block article-info\\'>\\n<div class=\\'article-list-left\\'>\\n<a href=\"/reviews/25297-kerry-winfrey-not-like-movies-romance\"><img src=\"https://t1.bookpage.com/books/images/bc35c1484c0dee958f1fb049c50c1e77/medium.jpg\" alt=\"Medium\" /></a>\\n</div>\\n<div class=\\'flex-article-content\\'>\\n<h4 class=\\'italic\\'>\\n<a href=\"/reviews/25297-kerry-winfrey-not-like-movies-romance\">Not Like the Movies</a>\\n</h4>\\n<p class=\\'sans bold\\'>\\nKerry Winfrey\\n</p>\\n<p class=\\'genre-links hidden-phone\\'>\\n<a href=\"/search?book_genre=romance\">Romance</a>\\n / \\n<a href=\"/search?book_genre=contemporary_romance\">Contemporary Romance</a>\\n</p>\\n\\n<p class=\\'excerpt\\'>\\nIf I had to sum up Kerry Winfrey\\xe2\\x80\\x99s new contemporary romance Not Like the Movies in one word, it would be charming. Chloe Sanderson is an optimistic, klutzy, hopeful ball of positivity, and reading from her perspective is the perfect nightcap to a long, arduous day. The caregiver for her...\\n</p>\\n<div class=\\'read-full\\'>\\n<a href=\"/reviews/25297-kerry-winfrey-not-like-movies-romance\">Read the Review <i class=\\'zmdi zmdi-chevron-right\\'></i></a>\\n</div>\\n</div>\\n<br class=\\'clear\\'>\\n</div>\\n\\n</div>\\n<div class=\\'row-fluid article-row\\'>\\n<div class=\\'bp-block article-info\\'>\\n<div class=\\'article-list-left\\'>\\n<a href=\"/reviews/25279-sarah-maclean-daring-duke-romance\"><img src=\"https://t1.bookpage.com/books/images/fc34247ff3e8b3b272f7b80561876b3e/medium.jpg\" alt=\"Medium\" /></a>\\n</div>\\n<div class=\\'flex-article-content\\'>\\n<h4 class=\\'italic\\'>\\n<a href=\"/reviews/25279-sarah-maclean-daring-duke-romance\">Daring and the Duke</a>\\n</h4>\\n<p class=\\'sans bold\\'>\\nSarah MacLean\\n</p>\\n<p class=\\'genre-links hidden-phone\\'>\\n<a href=\"/search?book_genre=romance\">Romance</a>\\n / \\n<a href=\"/search?book_genre=historical_romance\">Historical Romance</a>\\n</p>\\n\\n<p class=\\'excerpt\\'>\\nSarah MacLean wraps up her Bareknuckle Bastards series with the ultimate story of revenge and redemption. Fans of the first two books will enjoy seeing the series villain, Ewan, the Duke of Marwick, brought to his knees (literally and figuratively) by the strong-willed Grace. A long time ago,...\\n</p>\\n<div class=\\'read-full\\'>\\n<a href=\"/reviews/25279-sarah-maclean-daring-duke-romance\">Read the Review <i class=\\'zmdi zmdi-chevron-right\\'></i></a>\\n</div>\\n</div>\\n<br class=\\'clear\\'>\\n</div>\\n\\n</div>\\n<div class=\\'pagination\\'>\\n<ul>\\n\\n\\n<li class=\\'active\\'>\\n<a href=\"#\">1</a>\\n</li>\\n\\n<li class=\\'\\'>\\n<a rel=\"next\" href=\"/reviews?book_genre=romance&amp;page=2\">2</a>\\n</li>\\n\\n<li class=\\'\\'>\\n<a href=\"/reviews?book_genre=romance&amp;page=3\">3</a>\\n</li>\\n\\n<li class=\\'disabled\\'>\\n<a href=\"#\">&hellip;</a>\\n</li>\\n\\n<li>\\n<a rel=\"next\" href=\"/reviews?book_genre=romance&amp;page=2\">Next &rsaquo;</a>\\n</li>\\n\\n<li>\\n<a href=\"/reviews?book_genre=romance&amp;page=30\">Last &raquo;</a>\\n</li>\\n\\n</ul>\\n</div>\\n\\n</div>\\n</div>\\n<!-- Refinements Column -->\\n<div class=\\'span3\\'>\\n<div id=\\'facet-box\\'>\\n<div class=\\'hidden-phone\\'>\\n<div class=\\'sidebar-header facet-header\\'>\\n<span>\\nBrowse Book reviews\\n</span>\\n</div>\\n<div class=\\'sidebar-body\\'>\\n<div class=\\'facets\\'>\\n<p aria-controls=\\'Genres\\' aria-expanded=\\'false\\' data-target=\\'#Genres\\' data-toggle=\\'collapse\\'>\\nGenres <i class=\\'zmdi zmdi-chevron-down\\'></i>\\n</p>\\n<ul class=\\'collapse\\' id=\\'Genres\\'>\\n<li>\\n<a href=\"/reviews?book_genre=romance&amp;page=1\">Romance</a>\\n<a href=\"/reviews?page=1\"><i class=\\'icon-red fa fa-times-circle pull-left\\'></i>\\n</a></li>\\n<li>\\n<a href=\"/reviews?book_genre=contemporary_romance&amp;page=1\">Contemporary Romance</a>\\n</li>\\n<li>\\n<a href=\"/reviews?book_genre=historical_romance&amp;page=1\">Historical Romance</a>\\n</li>\\n<li>\\n<a href=\"/reviews?book_genre=romantic_suspense&amp;page=1\">Romantic Suspense</a>\\n</li>\\n<li>\\n<a href=\"/reviews?book_genre=paranormal_romance&amp;page=1\">Paranormal Romance</a>\\n</li>\\n<li>\\n<a href=\"/reviews?book_genre=fiction&amp;page=1\">Fiction</a>\\n</li>\\n<li>\\n<a href=\"/reviews?book_genre=ya&amp;page=1\">YA</a>\\n</li>\\n<li>\\n<a href=\"/reviews?book_genre=ya_fiction&amp;page=1\">YA Fiction</a>\\n</li>\\n<li>\\n<a href=\"/reviews?book_genre=western_romance&amp;page=1\">Western Romance</a>\\n</li>\\n<li>\\n<a href=\"/reviews?book_genre=women_s_fiction&amp;page=1\">Women&#39;s Fiction</a>\\n</li>\\n<li>\\n<a href=\"/reviews?book_genre=erotic_romance&amp;page=1\">Erotic Romance</a>\\n</li>\\n<li>\\n<a href=\"/reviews?book_genre=inspirational_fiction&amp;page=1\">Inspirational Fiction</a>\\n</li>\\n<li>\\n<a href=\"/reviews?book_genre=inspirational_romance&amp;page=1\">Inspirational Romance</a>\\n</li>\\n<li>\\n<a href=\"/reviews?book_genre=fantasy_romance&amp;page=1\">Fantasy Romance</a>\\n</li>\\n<li>\\n<a href=\"/reviews?book_genre=new_adult&amp;page=1\">New Adult</a>\\n</li>\\n<li>\\n<a href=\"/reviews?book_genre=audio&amp;page=1\">Audio</a>\\n</li>\\n<li>\\n<a href=\"/reviews?book_genre=fantasy&amp;page=1\">Fantasy</a>\\n</li>\\n<li>\\n<a href=\"/reviews?book_genre=magical_realism&amp;page=1\">Magical Realism</a>\\n</li>\\n<li>\\n<a href=\"/reviews?book_genre=world_fiction&amp;page=1\">World Fiction</a>\\n</li>\\n</ul>\\n</div>\\n\\n\\n</div>\\n\\n</div>\\n<div class=\\'bp-well email-bar sidebar\\'>\\n<div class=\\'row-fluid text-content\\'>\\n<div class=\\'col\\'>\\n<a class=\\'button\\' href=\\'https://signup.e2ma.net/signup/1896962/28888/\\' onclick=\"window.open(\\'https://signup.e2ma.net/signup/1896962/28888/\\', \\'signup\\', \\'menubar=no, location=no, toolbar=no, scrollbars=yes, height=800, width=500\\'); return false;\">\\n<p>Sign up for our newsletters!</p>\\n</a>\\n</div>\\n</div>\\n</div>\\n\\n\\n</div>\\n<div class=\\'sq-ad btm-margin\\'>\\n<script type=\"text/javascript\" language=\"JavaScript\">\\n aj_server = \\'https://litbreaker.nui.media/pipeline/\\'; aj_tagver = \\'1.0\\';\\n aj_zone = \\'litbreaker\\'; aj_adspot = \\'519024\\'; aj_page = \\'0\\'; aj_dim =\\'514841\\'; aj_ch = \\'\\'; aj_ct = \\'\\'; aj_kw = \\'\\';\\n aj_pv = true; aj_click = \\'\\';\\n</script><script type=\"text/javascript\" language=\"JavaScript\" src=\"https://img.nui.media/banners/ajtg.js\"></script>\\n\\n</div>\\n</div>\\n</div>\\n<div class=\\'row-fluid button-row\\'>\\n\\n<!-- billboard size -->\\n<script type=\"text/javascript\" language=\"JavaScript\">\\nif (window.innerWidth <= 600) {\\nvar aj_dim = 514841;\\n} else if (window.innerWidth >= 1000) {\\nvar aj_dim = \\'514838,514839\\';\\n} else {\\nvar aj_dim = 514839;\\n};\\naj_server = \\'https://litbreaker.nui.media/pipeline/\\'; aj_tagver = \\'1.0\\';\\naj_zone = \\'litbreaker\\'; aj_adspot = \\'518299\\'; aj_page = \\'0\\'; aj_ch = \\'\\'; aj_kw = \\'\\';\\naj_pv = true; aj_click = \\'\\';\\n</script><script type=\"text/javascript\" language=\"JavaScript\" src=\"https://img.nui.media/banners/ajtg.js\"></script>\\n\\n<!-- <script type=\"text/javascript\" language=\"JavaScript\">\\naj_server = \\'https://litbreaker.nui.media/pipeline/\\'; aj_tagver = \\'1.0\\';\\naj_zone = \\'litbreaker\\'; aj_adspot = \\'518299\\'; aj_page = \\'0\\'; aj_dim =\\'514838,514839\\'; aj_ch = \\'\\'; aj_ct = \\'\\'; aj_kw = \\'\\';\\naj_pv = true; aj_click = \\'\\';\\n</script><script type=\"text/javascript\" language=\"JavaScript\" src=\"https://img.nui.media/banners/ajtg.js\"></script>\\n-->\\n\\n<!-- <script type=\"text/javascript\" language=\"JavaScript\">\\naj_server = \\'https://litbreaker.nui.media/pipeline/\\'; aj_tagver = \\'1.0\\';\\naj_zone = \\'litbreaker\\'; aj_adspot = \\'557205\\'; aj_page = \\'0\\'; aj_dim =\\'514838\\'; aj_ch = \\'\\'; aj_ct = \\'\\'; aj_kw = \\'\\';\\naj_pv = true; aj_click = \\'\\';\\n</script><script type=\"text/javascript\" language=\"JavaScript\" src=\"https://img.nui.media/banners/ajtg.js\"></script> -->\\n\\n</div>\\n</div>\\n\\n</div>\\n</div>\\n<div class=\\'container-fluid no-padding\\'>\\n<div class=\\'footer row-fluid\\'>\\n<div class=\\'dark-block span12\\'>\\n<footer>\\n<div class=\\'row-fluid brand\\'>\\n<div class=\\'span3\\'></div>\\n<div class=\\'span6 middle\\'>\\n<img width=\"156\" height=\"36\" class=\"brand\" src=\"/assets/logos/logo_gray-895f864507d68e549bee2b02a0872a197ce42fe59b407ad4651db8acf446f06b.png\" alt=\"Logo gray\" />\\n</div>\\n</div>\\n<div class=\\'row-fluid\\'>\\n<p class=\\'list-header\\'>Subscriptions</p>\\n<p class=\\'sitemap\\'>\\n<a target=\"_blank\" href=\"http://www.subscriptions.bookpage.com/bookstore\">Bookstore</a>\\n\\xe2\\x80\\xa2\\n<a target=\"_blank\" href=\"http://www.subscriptions.bookpage.com/library\">Library</a>\\n\\xe2\\x80\\xa2\\n<a target=\"_blank\" href=\"http://MIurl.cc/Z6eD1pmI\">Individual</a>\\n\\xe2\\x80\\xa2\\n<a href=\"https://www.amazon.com/BookPage/dp/B00ATRKG30/ref=sr_1_1?ie=UTF8&amp;qid=1533306733&amp;sr=8-1&amp;keywords=bookpage\">Digital\\n</a>\\xe2\\x80\\xa2\\n<a href=\"/content/locations\">Find BookPage\\n</a></p>\\n</div>\\n<div class=\\'row-fluid\\'>\\n<p class=\\'list-header\\'>Company</p>\\n<p class=\\'sitemap\\'>\\n<a href=\"/content/about-us\">About BookPage\\n</a>\\xe2\\x80\\xa2\\n<a href=\"/content/advertise\">Advertise\\n</a>\\xe2\\x80\\xa2\\n<a href=\"/content/contact-us\">Contact Us\\n</a>\\xe2\\x80\\xa2\\n<a href=\"/content/privacy\">Privacy Policy\\n</a>\\xe2\\x80\\xa2\\n<a href=\"/content/submission-guidelines\">Submission Guidelines\\n</a></p>\\n</div>\\n<div class=\\'row-fluid\\'>\\n<div class=\\'social-block\\'>\\n<a href=\"https://www.facebook.com/pages/BookPage/116675947874\"><i class=\\'zmdi zmdi-facebook-box\\'></i></a>\\n<a href=\"https://twitter.com/bookpage\"><i class=\\'zmdi zmdi-twitter-box\\'></i></a>\\n<a href=\"https://www.instagram.com/readbookpage/?hl=en\"><i class=\\'zmdi zmdi-instagram\\'></i></a>\\n</div>\\n</div>\\n<div class=\\'row-fluid copyright\\'>\\n<p>&copy; 1996-2020 BookPage and ProMotion, inc. | 2143 Belcourt Avenue, Nashville, TN 37212</p>\\n</div>\\n</footer>\\n</div>\\n</div>\\n\\n</div>\\n<script src=\"/assets/application-8a7d9ed6d528157c163702ce8da91235bc386358e07d32fbb4658ae48c768826.js\"></script>\\n<script id=\"e2ma-embed\" type=\"text/javascript\">window.e2ma=window.e2ma||{};e2ma.accountId=\\'28888\\';</script>\\n<script src=\"//dk98ddgl0znzm.cloudfront.net/e2ma.js\" async=\"async\"></script>\\n\\n</body>\\n</html>\\n'"
      ]
     },
     "execution_count": 1,
     "metadata": {},
     "output_type": "execute_result"
    }
   ],
   "source": [
    "from bs4 import BeautifulSoup as BS\n",
    "import requests\n",
    "page= requests.get('https://bookpage.com/reviews?book_genre=romance&page=1')\n",
    "page.content"
   ]
  },
  {
   "cell_type": "code",
   "execution_count": 2,
   "metadata": {},
   "outputs": [
    {
     "data": {
      "text/plain": [
       "'<!DOCTYPE html>\\n<html lang=\"en\" xmlns:fb=\"http://www.facebook.com/2008/fbml\" xmlns:og=\"http://opengraphprotocol.org/schema/\">\\n <head>\\n  <title>\\n   Romance Book Reviews | BookPage\\n  </title>\\n  <meta content=\"Romance book recommendations of the best new books and more.\" name=\"description\"/>\\n  <meta content=\"book reviews, books and literature, writing and writers\" name=\"keywords\"/>\\n  <link href=\"https://bookpage.com/reviews?book_genre=romance&amp;page=1\" rel=\"canonical\"/>\\n  <meta content=\"BookPage.com\" property=\"og:site_name\"/>\\n  <meta content=\"Romance Book Reviews\" property=\"og:title\"/>\\n  <meta content=\"Romance book recommendations of the best new books and more.\" property=\"og:description\"/>\\n  <meta content=\"website\" property=\"og:type\"/>\\n  <meta content=\"https://bookpage.com/reviews?book_genre=romance&amp;page=1\" property=\"og:url\"/>\\n  <meta content=\"//www.bookpage.com/default_image.jpg\" property=\"og:image\"/>\\n  <meta content=\"summary\" name=\"twitter:card\"/>\\n  <meta content=\"@bookpage\" name=\"twitter:site\"/>\\n  <meta content=\"@bookpage\" name=\"twitter:creator\"/>\\n  <meta content=\"index,follow\" name=\"robots\"/>\\n  <meta content=\"BookPage\" name=\"application-name\"/>\\n  <meta content=\"BookPage\" name=\"msapplication-tooltip\"/>\\n  <meta content=\"https://bookpage.com/\" name=\"msapplication-starturl\"/>\\n  <meta content=\"name=BookPage;action-uri=https://bookpage.com;icon-uri=https://bookpage.com/favicon.ico\" name=\"msapplication-task\"/>\\n  <meta content=\"name=BookPage on Twitter;action-uri=http://twitter.com/bookpage;icon-uri=http://twitter.com/favicon.ico\" name=\"msapplication-task\"/>\\n  <meta content=\"name=BookPage on Facebook;action-uri=https://www.facebook.com/pages/BookPage/116675947874;icon-uri=https://s-static.ak.facebook.com/rsrc.php/yi/r/q9U99v3_saj.ico\" name=\"msapplication-task\"/>\\n  <meta content=\"name=BookPage on Pinterest;action-uri=http://www.pinterest.com/bookpage/;icon-uri=http://www.pinterest.com/favicon.ico\" name=\"msapplication-task\"/>\\n  <meta content=\"name=BookPage on YouTube;action-uri=http://www.youtube.com/BookPagedotcom;icon-uri=http://www.youtube.com/favicon.ico\" name=\"msapplication-task\"/>\\n  <meta charset=\"utf-8\"/>\\n  <meta content=\"IE=Edge,chrome=1\" http-equiv=\"X-UA-Compatible\"/>\\n  <meta content=\"width=device-width, initial-scale=1.0\" name=\"viewport\"/>\\n  <meta content=\"authenticity_token\" name=\"csrf-param\">\\n   <meta content=\"FlwwmAd2g3Hc2/dBXGwivrj70UPNZi2U7VQGOWckamDa29OebD/jSySrkMH5J4kVfp7t+ZZpom/GmZ4z3Vtuug==\" name=\"csrf-token\">\\n    <!-- Le HTML5 shim, for IE6-8 support of HTML elements -->\\n    <!--[if lt IE 9]>\\n<script src=\"//html5shim.googlecode.com/svn/trunk/html5.js\"></script>\\n<![endif]-->\\n    <link href=\"/assets/application-6b8add37da9bf38104e452cfbf0a2a39ae3032f902f8d069ac9550ca7f01a489.css\" media=\"all\" rel=\"stylesheet\">\\n     <link href=\"/apple-touch-icon-180x180.png\" rel=\"apple-touch-icon\" sizes=\"180x180\"/>\\n     <link href=\"/apple-touch-icon-152x152.png\" rel=\"apple-touch-icon\" sizes=\"152x152\"/>\\n     <link href=\"/apple-touch-icon-144x144.png\" rel=\"apple-touch-icon\" sizes=\"144x144\"/>\\n     <link href=\"/apple-touch-icon-120x120.png\" rel=\"apple-touch-icon\" sizes=\"120x120\"/>\\n     <link href=\"/apple-touch-icon-114x114.png\" rel=\"apple-touch-icon\" sizes=\"114x114\"/>\\n     <link href=\"/apple-touch-icon-76x76.png\" rel=\"apple-touch-icon\" sizes=\"76x76\"/>\\n     <link href=\"/apple-touch-icon-72x72.png\" rel=\"apple-touch-icon\" sizes=\"72x72\"/>\\n     <link href=\"/apple-touch-icon.png\" rel=\"apple-touch-icon\"/>\\n     <link href=\"/favicon.ico\" rel=\"shortcut icon\"/>\\n     <meta content=\"BookPage\" name=\"apple-mobile-web-app-title\"/>\\n     <link href=\"/feed\" rel=\"alternate\" title=\"ATOM\" type=\"application/atom+xml\">\\n      <link href=\"/feed.rss\" rel=\"alternate\" title=\"RSS\" type=\"application/rss+xml\">\\n       <link href=\"//fonts.googleapis.com/css?family=Open+Sans:400,600,700,800\" rel=\"stylesheet\" type=\"text/css\"/>\\n       <link href=\"//fonts.googleapis.com/css?family=Open+Sans+Condensed:700\" rel=\"stylesheet\" type=\"text/css\"/>\\n       <script async=\"async\" src=\"https://www.googletagservices.com/tag/js/gpt.js\">\\n       </script>\\n       <script>\\n        var googletag = googletag || {};\\n googletag.cmd = googletag.cmd || [];\\n       </script>\\n       <script>\\n        googletag.cmd.push(function() {\\n   googletag.defineSlot(\\'/4655871/ATL\\', [970, 250], \\'div-gpt-ad-1515619791087-0\\').addService(googletag.pubads());\\n   googletag.pubads().enableSingleRequest();\\n   googletag.enableServices();\\n });\\n       </script>\\n       <script async=\"\" defer=\"\" src=\"//d3c3cq33003psk.cloudfront.net/opentag-123939-1670854.js\">\\n       </script>\\n       <script type=\"text/javascript\">\\n        var googletag = googletag || {};\\ngoogletag.cmd = googletag.cmd || [];\\n(function() {\\nvar gads = document.createElement(\"script\");\\ngads.async = true;\\ngads.type = \"text/javascript\";\\nvar useSSL = \"https:\" == document.location.protocol;\\ngads.src = (useSSL ? \"https:\" : \"http:\") + \"//www.googletagservices.com/tag/js/gpt.js\";\\nvar node =document.getElementsByTagName(\"script\")[0];\\nnode.parentNode.insertBefore(gads, node);\\n})();\\n       </script>\\n       <!-- Global site tag (gtag.js) - Google Analytics -->\\n       <script async=\"\" src=\"https://www.googletagmanager.com/gtag/js?id=GTM-P85NP22\">\\n       </script>\\n       <script>\\n        window.dataLayer = window.dataLayer || [];\\n  function gtag(){dataLayer.push(arguments);}\\n  gtag(\\'js\\', new Date());\\n\\n  gtag(\\'config\\', \\'GTM-P85NP22\\');\\n       </script>\\n       <script>\\n        (function(i,s,o,g,r,a,m){i[\\'GoogleAnalyticsObject\\']=r;i[r]=i[r]||function(){\\n  (i[r].q=i[r].q||[]).push(arguments)},i[r].l=1*new Date();a=s.createElement(o),\\n  m=s.getElementsByTagName(o)[0];a.async=1;a.src=g;m.parentNode.insertBefore(a,m)\\n  })(window,document,\\'script\\',\\'//www.google-analytics.com/analytics.js\\',\\'ga\\');\\n\\n  ga(\\'create\\', \\'UA-9261499-1\\', \\'auto\\');\\n  ga(\\'send\\', \\'pageview\\');\\n       </script>\\n       <!-- Google Tag Manager -->\\n       <script>\\n        (function(w,d,s,l,i){w[l]=w[l]||[];w[l].push({\\'gtm.start\\':\\nnew Date().getTime(),event:\\'gtm.js\\'});var f=d.getElementsByTagName(s)[0],\\nj=d.createElement(s),dl=l!=\\'dataLayer\\'?\\'&l=\\'+l:\\'\\';j.async=true;j.src=\\n\\'https://www.googletagmanager.com/gtm.js?id=\\'+i+dl;f.parentNode.insertBefore(j,f);\\n})(window,document,\\'script\\',\\'dataLayer\\',\\'GTM-P85NP22\\');\\n       </script>\\n       <!-- End Google Tag Manager -->\\n       <!-- Facebook Pixel Code -->\\n       <script>\\n        !function(f,b,e,v,n,t,s){if(f.fbq)return;n=f.fbq=function(){n.callMethod?\\nn.callMethod.apply(n,arguments):n.queue.push(arguments)};if(!f._fbq)f._fbq=n;\\nn.push=n;n.loaded=!0;n.version=\\'2.0\\';n.queue=[];t=b.createElement(e);t.async=!0;\\nt.src=v;s=b.getElementsByTagName(e)[0];s.parentNode.insertBefore(t,s)}(window,\\ndocument,\\'script\\',\\'//connect.facebook.net/en_US/fbevents.js\\');\\n\\nfbq(\\'init\\', \\'1746518832242335\\');\\nfbq(\\'track\\', \"PageView\");\\n       </script>\\n       <noscript>\\n        <img height=\"1\" src=\"https://www.facebook.com/tr?id=1746518832242335&amp;ev=PageView&amp;noscript=1\" style=\"display:none\" width=\"1\"/>\\n       </noscript>\\n       <!-- End Facebook Pixel Code -->\\n       <script>\\n        (function(h,o,t,j,a,r){\\n        h.hj=h.hj||function(){(h.hj.q=h.hj.q||[]).push(arguments)};\\n        h._hjSettings={hjid:1209228,hjsv:6};\\n        a=o.getElementsByTagName(\\'head\\')[0];\\n        r=o.createElement(\\'script\\');r.async=1;\\n        r.src=t+h._hjSettings.hjid+j+h._hjSettings.hjsv;\\n        a.appendChild(r);\\n    })(window,document,\\'https://static.hotjar.com/c/hotjar-\\',\\'.js?sv=\\');\\n       </script>\\n       <!-- Facebook Pixel Code -->\\n       <script>\\n        (function(){var s = document.createElement(\\'script\\'),e = ! document.body ? document.querySelector(\\'head\\') : document.body;s.src = \\'https://acsbapp.com/apps/app/assets/js/acsb.js\\';s.async = s.defer = true;s.onload = function(){acsbJS.init({statementLink : \\'\\',feedbackLink : \\'\\',footerHtml : \\'\\',hideMobile : false,hideTrigger : false,language : \\'en\\',position : \\'right\\',leadColor : \\'#146FF8\\',triggerColor : \\'#146FF8\\',triggerRadius : \\'50%\\',triggerPositionX : \\'right\\',triggerPositionY : \\'bottom\\',triggerIcon : \\'default\\',triggerSize : \\'medium\\',triggerOffsetX : 20,triggerOffsetY : 20,mobile : {triggerSize : \\'small\\',triggerPositionX : \\'right\\',triggerPositionY : \\'center\\',triggerOffsetX : 0,triggerOffsetY : 0,triggerRadius : \\'50%\\'}});};e.appendChild(s);}());\\n       </script>\\n       <!-- End Facebook Pixel Code -->\\n      </link>\\n     </link>\\n    </link>\\n   </meta>\\n  </meta>\\n </head>\\n <body>\\n  <!-- Google Tag Manager -->\\n  <noscript>\\n   <iframe height=\"0\" src=\"//www.googletagmanager.com/ns.html?id=GTM-T5GJ4V\" style=\"display:none;visibility:hidden\" width=\"0\">\\n   </iframe>\\n  </noscript>\\n  <script>\\n   (function(w,d,s,l,i){w[l]=w[l]||[];w[l].push({\\'gtm.start\\':\\nnew Date().getTime(),event:\\'gtm.js\\'});var f=d.getElementsByTagName(s)[0],\\nj=d.createElement(s),dl=l!=\\'dataLayer\\'?\\'&l=\\'+l:\\'\\';j.async=true;j.src=\\n\\'//www.googletagmanager.com/gtm.js?id=\\'+i+dl;f.parentNode.insertBefore(j,f);\\n})(window,document,\\'script\\',\\'dataLayer\\',\\'GTM-T5GJ4V\\');\\n  </script>\\n  <!-- End Google Tag Manager -->\\n  <!-- Google Tag Manager (noscript) -->\\n  <noscript>\\n   <iframe height=\"0\" src=\"https://www.googletagmanager.com/ns.html?id=GTM-P85NP22\" style=\"display:none;visibility:hidden\" width=\"0\">\\n   </iframe>\\n  </noscript>\\n  <!-- End Google Tag Manager (noscript) -->\\n  <!-- google ads -->\\n  <script async=\"\" data-ad-client=\"ca-pub-1933750090033622\" src=\"https://pagead2.googlesyndication.com/pagead/js/adsbygoogle.js\">\\n  </script>\\n  <div class=\"container-fluid\">\\n   <div class=\"header\">\\n    <div class=\"navbar navbar-default navbar-fixed-top bp-nav\">\\n     <div class=\"row-fluid subscribe\">\\n      <a class=\"button\" href=\"https://signup.e2ma.net/signup/1896962/28888/\" onclick=\"window.open(\\'https://signup.e2ma.net/signup/1896962/28888/\\', \\'signup\\', \\'menubar=no, location=no, toolbar=no, scrollbars=yes, height=800, width=500\\'); return false;\">\\n       Sign up for our newsletters!\\n      </a>\\n     </div>\\n     <div class=\"navbar-inner\">\\n      <a class=\"btn btn-navbar\" data-target=\".nav-collapse\" data-toggle=\"collapse\">\\n       <i class=\"zmdi zmdi-menu\">\\n       </i>\\n      </a>\\n      <a href=\"/\">\\n       <img alt=\"Logo large\" class=\"brand\" src=\"/assets/logos/logo_large-d48d8b33b2656c699a6815c500d328a7d0ee40edfde8536e957bfb739cfbf611.png\"/>\\n      </a>\\n      <div class=\"nav-collapse\">\\n       <ul class=\"nav bp-navtext\">\\n        <li class=\"\">\\n         <a href=\"/print-edition\">\\n          Print Edition\\n         </a>\\n        </li>\\n        <li class=\"current dropdown\">\\n         <a aria-expanded=\"false\" aria-haspopup=\"true\" class=\"dropdown-toggle\" data-toggle=\"dropdown\" href=\"/reviews\" role=\"button\">\\n          Book Reviews\\n         </a>\\n         <ul class=\"dropdown-menu\">\\n          <li>\\n           <a href=\"/reviews\">\\n            All Reviews\\n           </a>\\n          </li>\\n          <li>\\n           <a href=\"/reviews?book_genre=fiction&amp;page=1\">\\n            Fiction\\n           </a>\\n          </li>\\n          <li>\\n           <a href=\"/reviews?book_genre=nonfiction&amp;page=1\">\\n            Nonfiction\\n           </a>\\n          </li>\\n          <li>\\n           <a href=\"/reviews?book_genre=children_s&amp;page=1\">\\n            Children\\'s\\n           </a>\\n          </li>\\n          <li>\\n           <a href=\"/reviews?book_genre=ya&amp;page=1\">\\n            YA\\n           </a>\\n          </li>\\n          <li>\\n           <a href=\"/reviews?book_genre=mystery_suspense&amp;page=1\">\\n            Mystery\\n           </a>\\n          </li>\\n          <li>\\n           <a href=\"/reviews?book_genre=romance&amp;page=1\">\\n            Romance\\n           </a>\\n          </li>\\n         </ul>\\n        </li>\\n        <li class=\"\">\\n         <a href=\"/interviews\">\\n          Interviews\\n         </a>\\n        </li>\\n        <li class=\"\">\\n         <a href=\"/features\">\\n          Features\\n         </a>\\n        </li>\\n        <li class=\"nav-last dropdown\">\\n         <a aria-expanded=\"false\" aria-haspopup=\"true\" class=\"dropdown-toggle\" data-toggle=\"dropdown\" href=\"/reviews\" role=\"button\">\\n          Subscribe\\n         </a>\\n         <ul class=\"dropdown-menu\">\\n          <li>\\n           <a href=\"http://www.subscriptions.bookpage.com/library\" target=\"_blank\">\\n            Library\\n           </a>\\n          </li>\\n          <li>\\n           <a href=\"http://www.subscriptions.bookpage.com/bookstore\" target=\"_blank\">\\n            Bookstore\\n           </a>\\n          </li>\\n          <li>\\n           <a href=\"http://MIurl.cc/Z6eD1pmI\" target=\"_blank\">\\n            Individual\\n           </a>\\n          </li>\\n         </ul>\\n        </li>\\n        <div class=\"search-box\">\\n         <form accept-charset=\"UTF-8\" action=\"/search/\" class=\"search-form\" method=\"get\">\\n          <input name=\"utf8\" type=\"hidden\" value=\"✓\"/>\\n          <div class=\"input-prepend\">\\n           <span class=\"add-on add-on-custom\">\\n            <i class=\"fa fa-search\">\\n            </i>\\n           </span>\\n           <input class=\"input-medium query-input\" id=\"query\" name=\"query\" placeholder=\"Search BookPage\" type=\"text\"/>\\n          </div>\\n         </form>\\n        </div>\\n       </ul>\\n      </div>\\n     </div>\\n    </div>\\n   </div>\\n   <div class=\"page-content\">\\n    <!-- Main Content -->\\n    <div class=\"row-fluid articles-index\">\\n     <div class=\"row-fluid\">\\n      <div class=\"search-bar\">\\n       <div class=\"breadcrumbs\">\\n        <p>\\n         <a href=\"/\">\\n          Home\\n         </a>\\n         <i class=\"zmdi zmdi-chevron-right\">\\n         </i>\\n         <h1 class=\"sans\">\\n          Book reviews\\n         </h1>\\n        </p>\\n       </div>\\n       <br class=\"clear\"/>\\n      </div>\\n     </div>\\n     <div class=\"row-fluid\">\\n      <!-- Articles Column -->\\n      <div class=\"span9\">\\n       <div class=\"bp-well\">\\n        <div class=\"row-fluid article-row\">\\n         <div class=\"bp-block article-info\">\\n          <div class=\"article-list-left\">\\n           <a href=\"/reviews/25615-olivia-dade-spoiler-alert-romance\">\\n            <img alt=\"Medium\" src=\"https://t1.bookpage.com/books/images/4717276222699a26446375d08b335025/medium.jpg\"/>\\n           </a>\\n          </div>\\n          <div class=\"flex-article-content\">\\n           <h4 class=\"italic\">\\n            <a href=\"/reviews/25615-olivia-dade-spoiler-alert-romance\">\\n             <span style=\"font-style:normal;\">\\n              ★\\n             </span>\\n             Spoiler Alert\\n            </a>\\n           </h4>\\n           <p class=\"sans bold\">\\n            Olivia Dade\\n           </p>\\n           <p class=\"genre-links hidden-phone\">\\n            <a href=\"/search?book_genre=romance\">\\n             Romance\\n            </a>\\n            /\\n            <a href=\"/search?book_genre=contemporary_romance\">\\n             Contemporary Romance\\n            </a>\\n           </p>\\n           <p class=\"excerpt\">\\n            Indie publishing favorite Olivia Dade’s Avon debut,\\xa0Spoiler Alert, is a funny and poignant triumph that defies expectation. On the surface, April Whittier and Marcus Caster-Rupp are opposites. Industry insiders and fans alike appreciate the good looks of Marcus, an actor on hit TV...\\n           </p>\\n           <div class=\"read-full\">\\n            <a href=\"/reviews/25615-olivia-dade-spoiler-alert-romance\">\\n             Read the Review\\n             <i class=\"zmdi zmdi-chevron-right\">\\n             </i>\\n            </a>\\n           </div>\\n          </div>\\n          <br class=\"clear\"/>\\n         </div>\\n        </div>\\n        <div class=\"row-fluid article-row\">\\n         <div class=\"bp-block article-info\">\\n          <div class=\"article-list-left\">\\n           <a href=\"/reviews/25591-tessa-bailey-tools-engagement-romance\">\\n            <img alt=\"Medium\" src=\"https://t1.bookpage.com/books/images/ff03cd4d60f0ab7c2d29a10e49e9fe65/medium.jpg\"/>\\n           </a>\\n          </div>\\n          <div class=\"flex-article-content\">\\n           <h4 class=\"italic\">\\n            <a href=\"/reviews/25591-tessa-bailey-tools-engagement-romance\">\\n             Tools of Engagement\\n            </a>\\n           </h4>\\n           <p class=\"sans bold\">\\n            Tessa Bailey\\n           </p>\\n           <p class=\"genre-links hidden-phone\">\\n            <a href=\"/search?book_genre=romance\">\\n             Romance\\n            </a>\\n            /\\n            <a href=\"/search?book_genre=contemporary_romance\">\\n             Contemporary Romance\\n            </a>\\n           </p>\\n           <p class=\"excerpt\">\\n            <strong>\\n             Tools of Engagement\\n            </strong>\\n            is the third and final book in Tessa Bailey’s contemporary Hot &amp; Hammered series, and it’s every bit as fun and sexy as her readers have come to expect.\\n           </p>\\n           <div class=\"read-full\">\\n            <a href=\"/reviews/25591-tessa-bailey-tools-engagement-romance\">\\n             Read the Review\\n             <i class=\"zmdi zmdi-chevron-right\">\\n             </i>\\n            </a>\\n           </div>\\n          </div>\\n          <br class=\"clear\"/>\\n         </div>\\n        </div>\\n        <div class=\"row-fluid article-row\">\\n         <div class=\"bp-block article-info\">\\n          <div class=\"article-list-left\">\\n           <a href=\"/reviews/25502-julia-london-you-lucky-dog-romance\">\\n            <img alt=\"Medium\" src=\"https://t1.bookpage.com/books/images/efa2743310b92ca38f24a0e94f3bd7f2/medium.jpg\"/>\\n           </a>\\n          </div>\\n          <div class=\"flex-article-content\">\\n           <h4 class=\"italic\">\\n            <a href=\"/reviews/25502-julia-london-you-lucky-dog-romance\">\\n             You Lucky Dog\\n            </a>\\n           </h4>\\n           <p class=\"sans bold\">\\n            Julia London\\n           </p>\\n           <p class=\"genre-links hidden-phone\">\\n            <a href=\"/search?book_genre=romance\">\\n             Romance\\n            </a>\\n            /\\n            <a href=\"/search?book_genre=contemporary_romance\">\\n             Contemporary Romance\\n            </a>\\n           </p>\\n           <p class=\"excerpt\">\\n            A series of unfortunate events lead to a meet-disaster in Julia London’s affecting and ebullient romantic comedy\\n            <strong>\\n             You Lucky Dog\\n            </strong>\\n            .\\n           </p>\\n           <div class=\"read-full\">\\n            <a href=\"/reviews/25502-julia-london-you-lucky-dog-romance\">\\n             Read the Review\\n             <i class=\"zmdi zmdi-chevron-right\">\\n             </i>\\n            </a>\\n           </div>\\n          </div>\\n          <br class=\"clear\"/>\\n         </div>\\n        </div>\\n        <div class=\"row-fluid article-row\">\\n         <div class=\"bp-block article-info\">\\n          <div class=\"article-list-left\">\\n           <a href=\"/reviews/25497-sabrina-jeffries-who-wants-to-marry-duke-romance\">\\n            <img alt=\"Medium\" src=\"https://t1.bookpage.com/books/images/23dd2c745be502382ed8bb97f981368f/medium.jpg\"/>\\n           </a>\\n          </div>\\n          <div class=\"flex-article-content\">\\n           <h4 class=\"italic\">\\n            <a href=\"/reviews/25497-sabrina-jeffries-who-wants-to-marry-duke-romance\">\\n             Who Wants to Marry a Duke\\n            </a>\\n           </h4>\\n           <p class=\"sans bold\">\\n            Sabrina Jeffries\\n           </p>\\n           <p class=\"genre-links hidden-phone\">\\n            <a href=\"/search?book_genre=romance\">\\n             Romance\\n            </a>\\n            /\\n            <a href=\"/search?book_genre=historical_romance\">\\n             Historical Romance\\n            </a>\\n           </p>\\n           <p class=\"excerpt\">\\n            Veteran author of Regency romances Sabrina Jeffries is back with the third installment of her fun Duke Dynasty series,\\n            <strong>\\n             Who Wants to Marry A Duke\\n            </strong>\\n            .\\n           </p>\\n           <div class=\"read-full\">\\n            <a href=\"/reviews/25497-sabrina-jeffries-who-wants-to-marry-duke-romance\">\\n             Read the Review\\n             <i class=\"zmdi zmdi-chevron-right\">\\n             </i>\\n            </a>\\n           </div>\\n          </div>\\n          <br class=\"clear\"/>\\n         </div>\\n        </div>\\n        <div class=\"row-fluid article-row\">\\n         <div class=\"bp-block article-info\">\\n          <div class=\"article-list-left\">\\n           <a href=\"/reviews/25499-mary-balogh-someone-to-romance-romance\">\\n            <img alt=\"Medium\" src=\"https://t1.bookpage.com/books/images/ba94a6ef9db11075488a65d82f96baf8/medium.jpg\"/>\\n           </a>\\n          </div>\\n          <div class=\"flex-article-content\">\\n           <h4 class=\"italic\">\\n            <a href=\"/reviews/25499-mary-balogh-someone-to-romance-romance\">\\n             <span style=\"font-style:normal;\">\\n              ★\\n             </span>\\n             Someone to Romance\\n            </a>\\n           </h4>\\n           <p class=\"sans bold\">\\n            Mary Balogh\\n           </p>\\n           <p class=\"genre-links hidden-phone\">\\n            <a href=\"/search?book_genre=romance\">\\n             Romance\\n            </a>\\n            /\\n            <a href=\"/search?book_genre=historical_romance\">\\n             Historical Romance\\n            </a>\\n           </p>\\n           <p class=\"excerpt\">\\n            Moments after laying eyes on Lady Jessica Archer, Gabriel Thorne decides that she is the woman he will marry. But this isn’t love at first sight. It’s not even like at first sight.\\n           </p>\\n           <div class=\"read-full\">\\n            <a href=\"/reviews/25499-mary-balogh-someone-to-romance-romance\">\\n             Read the Review\\n             <i class=\"zmdi zmdi-chevron-right\">\\n             </i>\\n            </a>\\n           </div>\\n          </div>\\n          <br class=\"clear\"/>\\n         </div>\\n        </div>\\n        <div class=\"row-fluid article-row\">\\n         <div class=\"bp-block article-info\">\\n          <div class=\"article-list-left\">\\n           <a href=\"/reviews/25426-alexis-daria-you-had-me-at-hola-romance\">\\n            <img alt=\"Medium\" src=\"https://t1.bookpage.com/books/images/338fb167fa08fbdcfe55959b46ca6008/medium.jpg\"/>\\n           </a>\\n          </div>\\n          <div class=\"flex-article-content\">\\n           <h4 class=\"italic\">\\n            <a href=\"/reviews/25426-alexis-daria-you-had-me-at-hola-romance\">\\n             You Had Me at Hola\\n            </a>\\n           </h4>\\n           <p class=\"sans bold\">\\n            Alexis Daria\\n           </p>\\n           <p class=\"genre-links hidden-phone\">\\n            <a href=\"/search?book_genre=romance\">\\n             Romance\\n            </a>\\n            /\\n            <a href=\"/search?book_genre=contemporary_romance\">\\n             Contemporary Romance\\n            </a>\\n           </p>\\n           <p class=\"excerpt\">\\n            High drama isn’t just soap opera star Jasmine Lin Rodriguez’s day job, it’s also her life in Alexis Daria’s You Had Me at Hola. After getting her broken heart splashed over all the tabloid covers, she’s restrategized and plans to lead a man-free, drama-free,...\\n           </p>\\n           <div class=\"read-full\">\\n            <a href=\"/reviews/25426-alexis-daria-you-had-me-at-hola-romance\">\\n             Read the Review\\n             <i class=\"zmdi zmdi-chevron-right\">\\n             </i>\\n            </a>\\n           </div>\\n          </div>\\n          <br class=\"clear\"/>\\n         </div>\\n        </div>\\n        <div class=\"row-fluid article-row\">\\n         <div class=\"bp-block article-info\">\\n          <div class=\"article-list-left\">\\n           <a href=\"/reviews/25389-elle-wright-way-you-tempt-me-romance\">\\n            <img alt=\"Medium\" src=\"https://t1.bookpage.com/books/images/749c0ad52eea0c45aac733b308d001da/medium.jpg\"/>\\n           </a>\\n          </div>\\n          <div class=\"flex-article-content\">\\n           <h4 class=\"italic\">\\n            <a href=\"/reviews/25389-elle-wright-way-you-tempt-me-romance\">\\n             The Way You Tempt Me\\n            </a>\\n           </h4>\\n           <p class=\"sans bold\">\\n            Elle Wright\\n           </p>\\n           <p class=\"genre-links hidden-phone\">\\n            <a href=\"/search?book_genre=romance\">\\n             Romance\\n            </a>\\n            /\\n            <a href=\"/search?book_genre=contemporary_romance\">\\n             Contemporary Romance\\n            </a>\\n           </p>\\n           <p class=\"excerpt\">\\n            Elle Wright kicks off her new Pure Talent series with a bang in The Way You Tempt Me. This friends-to-lovers contemporary romance is sexy, addictive and deliciously dramatic. Xavier Starks is the heir apparent for the new sports division of his family’s talent agency, Pure Talent. As a...\\n           </p>\\n           <div class=\"read-full\">\\n            <a href=\"/reviews/25389-elle-wright-way-you-tempt-me-romance\">\\n             Read the Review\\n             <i class=\"zmdi zmdi-chevron-right\">\\n             </i>\\n            </a>\\n           </div>\\n          </div>\\n          <br class=\"clear\"/>\\n         </div>\\n        </div>\\n        <div class=\"row-fluid article-row\">\\n         <div class=\"bp-block article-info\">\\n          <div class=\"article-list-left\">\\n           <a href=\"/reviews/25382-milla-vane-touch-snow-stone-romance\">\\n            <img alt=\"Medium\" src=\"https://t1.bookpage.com/books/images/0a97ad351bf76b6559339be03b9402a4/medium.jpg\"/>\\n           </a>\\n          </div>\\n          <div class=\"flex-article-content\">\\n           <h4 class=\"italic\">\\n            <a href=\"/reviews/25382-milla-vane-touch-snow-stone-romance\">\\n             A Touch of Stone and Snow\\n            </a>\\n           </h4>\\n           <p class=\"sans bold\">\\n            Milla Vane\\n           </p>\\n           <p class=\"genre-links hidden-phone\">\\n            <a href=\"/search?book_genre=romance\">\\n             Romance\\n            </a>\\n            /\\n            <a href=\"/search?book_genre=fantasy_romance\">\\n             Fantasy Romance\\n            </a>\\n           </p>\\n           <p class=\"excerpt\">\\n            <strong>\\n             A Touch of Stone and Snow\\n            </strong>\\n            is a grand and sweeping fantasy romance, an absorbing and story-rich tome of warring kingdoms and dangerous dragons.\\n           </p>\\n           <div class=\"read-full\">\\n            <a href=\"/reviews/25382-milla-vane-touch-snow-stone-romance\">\\n             Read the Review\\n             <i class=\"zmdi zmdi-chevron-right\">\\n             </i>\\n            </a>\\n           </div>\\n          </div>\\n          <br class=\"clear\"/>\\n         </div>\\n        </div>\\n        <div class=\"row-fluid article-row\">\\n         <div class=\"bp-block article-info\">\\n          <div class=\"article-list-left\">\\n           <a href=\"/reviews/25297-kerry-winfrey-not-like-movies-romance\">\\n            <img alt=\"Medium\" src=\"https://t1.bookpage.com/books/images/bc35c1484c0dee958f1fb049c50c1e77/medium.jpg\"/>\\n           </a>\\n          </div>\\n          <div class=\"flex-article-content\">\\n           <h4 class=\"italic\">\\n            <a href=\"/reviews/25297-kerry-winfrey-not-like-movies-romance\">\\n             Not Like the Movies\\n            </a>\\n           </h4>\\n           <p class=\"sans bold\">\\n            Kerry Winfrey\\n           </p>\\n           <p class=\"genre-links hidden-phone\">\\n            <a href=\"/search?book_genre=romance\">\\n             Romance\\n            </a>\\n            /\\n            <a href=\"/search?book_genre=contemporary_romance\">\\n             Contemporary Romance\\n            </a>\\n           </p>\\n           <p class=\"excerpt\">\\n            If I had to sum up Kerry Winfrey’s new contemporary romance Not Like the Movies in one word, it would be charming. Chloe Sanderson is an optimistic, klutzy, hopeful ball of positivity, and reading from her perspective is the perfect nightcap to a long, arduous day. The caregiver for her...\\n           </p>\\n           <div class=\"read-full\">\\n            <a href=\"/reviews/25297-kerry-winfrey-not-like-movies-romance\">\\n             Read the Review\\n             <i class=\"zmdi zmdi-chevron-right\">\\n             </i>\\n            </a>\\n           </div>\\n          </div>\\n          <br class=\"clear\"/>\\n         </div>\\n        </div>\\n        <div class=\"row-fluid article-row\">\\n         <div class=\"bp-block article-info\">\\n          <div class=\"article-list-left\">\\n           <a href=\"/reviews/25279-sarah-maclean-daring-duke-romance\">\\n            <img alt=\"Medium\" src=\"https://t1.bookpage.com/books/images/fc34247ff3e8b3b272f7b80561876b3e/medium.jpg\"/>\\n           </a>\\n          </div>\\n          <div class=\"flex-article-content\">\\n           <h4 class=\"italic\">\\n            <a href=\"/reviews/25279-sarah-maclean-daring-duke-romance\">\\n             Daring and the Duke\\n            </a>\\n           </h4>\\n           <p class=\"sans bold\">\\n            Sarah MacLean\\n           </p>\\n           <p class=\"genre-links hidden-phone\">\\n            <a href=\"/search?book_genre=romance\">\\n             Romance\\n            </a>\\n            /\\n            <a href=\"/search?book_genre=historical_romance\">\\n             Historical Romance\\n            </a>\\n           </p>\\n           <p class=\"excerpt\">\\n            Sarah MacLean wraps up her Bareknuckle Bastards series with the ultimate story of revenge and redemption. Fans of the first two books will enjoy seeing the series villain, Ewan, the Duke of Marwick, brought to his knees (literally and figuratively) by the strong-willed Grace. A long time ago,...\\n           </p>\\n           <div class=\"read-full\">\\n            <a href=\"/reviews/25279-sarah-maclean-daring-duke-romance\">\\n             Read the Review\\n             <i class=\"zmdi zmdi-chevron-right\">\\n             </i>\\n            </a>\\n           </div>\\n          </div>\\n          <br class=\"clear\"/>\\n         </div>\\n        </div>\\n        <div class=\"pagination\">\\n         <ul>\\n          <li class=\"active\">\\n           <a href=\"#\">\\n            1\\n           </a>\\n          </li>\\n          <li class=\"\">\\n           <a href=\"/reviews?book_genre=romance&amp;page=2\" rel=\"next\">\\n            2\\n           </a>\\n          </li>\\n          <li class=\"\">\\n           <a href=\"/reviews?book_genre=romance&amp;page=3\">\\n            3\\n           </a>\\n          </li>\\n          <li class=\"disabled\">\\n           <a href=\"#\">\\n            …\\n           </a>\\n          </li>\\n          <li>\\n           <a href=\"/reviews?book_genre=romance&amp;page=2\" rel=\"next\">\\n            Next ›\\n           </a>\\n          </li>\\n          <li>\\n           <a href=\"/reviews?book_genre=romance&amp;page=30\">\\n            Last »\\n           </a>\\n          </li>\\n         </ul>\\n        </div>\\n       </div>\\n      </div>\\n      <!-- Refinements Column -->\\n      <div class=\"span3\">\\n       <div id=\"facet-box\">\\n        <div class=\"hidden-phone\">\\n         <div class=\"sidebar-header facet-header\">\\n          <span>\\n           Browse Book reviews\\n          </span>\\n         </div>\\n         <div class=\"sidebar-body\">\\n          <div class=\"facets\">\\n           <p aria-controls=\"Genres\" aria-expanded=\"false\" data-target=\"#Genres\" data-toggle=\"collapse\">\\n            Genres\\n            <i class=\"zmdi zmdi-chevron-down\">\\n            </i>\\n           </p>\\n           <ul class=\"collapse\" id=\"Genres\">\\n            <li>\\n             <a href=\"/reviews?book_genre=romance&amp;page=1\">\\n              Romance\\n             </a>\\n             <a href=\"/reviews?page=1\">\\n              <i class=\"icon-red fa fa-times-circle pull-left\">\\n              </i>\\n             </a>\\n            </li>\\n            <li>\\n             <a href=\"/reviews?book_genre=contemporary_romance&amp;page=1\">\\n              Contemporary Romance\\n             </a>\\n            </li>\\n            <li>\\n             <a href=\"/reviews?book_genre=historical_romance&amp;page=1\">\\n              Historical Romance\\n             </a>\\n            </li>\\n            <li>\\n             <a href=\"/reviews?book_genre=romantic_suspense&amp;page=1\">\\n              Romantic Suspense\\n             </a>\\n            </li>\\n            <li>\\n             <a href=\"/reviews?book_genre=paranormal_romance&amp;page=1\">\\n              Paranormal Romance\\n             </a>\\n            </li>\\n            <li>\\n             <a href=\"/reviews?book_genre=fiction&amp;page=1\">\\n              Fiction\\n             </a>\\n            </li>\\n            <li>\\n             <a href=\"/reviews?book_genre=ya&amp;page=1\">\\n              YA\\n             </a>\\n            </li>\\n            <li>\\n             <a href=\"/reviews?book_genre=ya_fiction&amp;page=1\">\\n              YA Fiction\\n             </a>\\n            </li>\\n            <li>\\n             <a href=\"/reviews?book_genre=western_romance&amp;page=1\">\\n              Western Romance\\n             </a>\\n            </li>\\n            <li>\\n             <a href=\"/reviews?book_genre=women_s_fiction&amp;page=1\">\\n              Women\\'s Fiction\\n             </a>\\n            </li>\\n            <li>\\n             <a href=\"/reviews?book_genre=erotic_romance&amp;page=1\">\\n              Erotic Romance\\n             </a>\\n            </li>\\n            <li>\\n             <a href=\"/reviews?book_genre=inspirational_fiction&amp;page=1\">\\n              Inspirational Fiction\\n             </a>\\n            </li>\\n            <li>\\n             <a href=\"/reviews?book_genre=inspirational_romance&amp;page=1\">\\n              Inspirational Romance\\n             </a>\\n            </li>\\n            <li>\\n             <a href=\"/reviews?book_genre=fantasy_romance&amp;page=1\">\\n              Fantasy Romance\\n             </a>\\n            </li>\\n            <li>\\n             <a href=\"/reviews?book_genre=new_adult&amp;page=1\">\\n              New Adult\\n             </a>\\n            </li>\\n            <li>\\n             <a href=\"/reviews?book_genre=audio&amp;page=1\">\\n              Audio\\n             </a>\\n            </li>\\n            <li>\\n             <a href=\"/reviews?book_genre=fantasy&amp;page=1\">\\n              Fantasy\\n             </a>\\n            </li>\\n            <li>\\n             <a href=\"/reviews?book_genre=magical_realism&amp;page=1\">\\n              Magical Realism\\n             </a>\\n            </li>\\n            <li>\\n             <a href=\"/reviews?book_genre=world_fiction&amp;page=1\">\\n              World Fiction\\n             </a>\\n            </li>\\n           </ul>\\n          </div>\\n         </div>\\n        </div>\\n        <div class=\"bp-well email-bar sidebar\">\\n         <div class=\"row-fluid text-content\">\\n          <div class=\"col\">\\n           <a class=\"button\" href=\"https://signup.e2ma.net/signup/1896962/28888/\" onclick=\"window.open(\\'https://signup.e2ma.net/signup/1896962/28888/\\', \\'signup\\', \\'menubar=no, location=no, toolbar=no, scrollbars=yes, height=800, width=500\\'); return false;\">\\n            <p>\\n             Sign up for our newsletters!\\n            </p>\\n           </a>\\n          </div>\\n         </div>\\n        </div>\\n       </div>\\n       <div class=\"sq-ad btm-margin\">\\n        <script language=\"JavaScript\" type=\"text/javascript\">\\n         aj_server = \\'https://litbreaker.nui.media/pipeline/\\'; aj_tagver = \\'1.0\\';\\n aj_zone = \\'litbreaker\\'; aj_adspot = \\'519024\\'; aj_page = \\'0\\'; aj_dim =\\'514841\\'; aj_ch = \\'\\'; aj_ct = \\'\\'; aj_kw = \\'\\';\\n aj_pv = true; aj_click = \\'\\';\\n        </script>\\n        <script language=\"JavaScript\" src=\"https://img.nui.media/banners/ajtg.js\" type=\"text/javascript\">\\n        </script>\\n       </div>\\n      </div>\\n     </div>\\n     <div class=\"row-fluid button-row\">\\n      <!-- billboard size -->\\n      <script language=\"JavaScript\" type=\"text/javascript\">\\n       if (window.innerWidth <= 600) {\\nvar aj_dim = 514841;\\n} else if (window.innerWidth >= 1000) {\\nvar aj_dim = \\'514838,514839\\';\\n} else {\\nvar aj_dim = 514839;\\n};\\naj_server = \\'https://litbreaker.nui.media/pipeline/\\'; aj_tagver = \\'1.0\\';\\naj_zone = \\'litbreaker\\'; aj_adspot = \\'518299\\'; aj_page = \\'0\\'; aj_ch = \\'\\'; aj_kw = \\'\\';\\naj_pv = true; aj_click = \\'\\';\\n      </script>\\n      <script language=\"JavaScript\" src=\"https://img.nui.media/banners/ajtg.js\" type=\"text/javascript\">\\n      </script>\\n      <!-- <script type=\"text/javascript\" language=\"JavaScript\">\\naj_server = \\'https://litbreaker.nui.media/pipeline/\\'; aj_tagver = \\'1.0\\';\\naj_zone = \\'litbreaker\\'; aj_adspot = \\'518299\\'; aj_page = \\'0\\'; aj_dim =\\'514838,514839\\'; aj_ch = \\'\\'; aj_ct = \\'\\'; aj_kw = \\'\\';\\naj_pv = true; aj_click = \\'\\';\\n</script><script type=\"text/javascript\" language=\"JavaScript\" src=\"https://img.nui.media/banners/ajtg.js\"></script>\\n-->\\n      <!-- <script type=\"text/javascript\" language=\"JavaScript\">\\naj_server = \\'https://litbreaker.nui.media/pipeline/\\'; aj_tagver = \\'1.0\\';\\naj_zone = \\'litbreaker\\'; aj_adspot = \\'557205\\'; aj_page = \\'0\\'; aj_dim =\\'514838\\'; aj_ch = \\'\\'; aj_ct = \\'\\'; aj_kw = \\'\\';\\naj_pv = true; aj_click = \\'\\';\\n</script><script type=\"text/javascript\" language=\"JavaScript\" src=\"https://img.nui.media/banners/ajtg.js\"></script> -->\\n     </div>\\n    </div>\\n   </div>\\n  </div>\\n  <div class=\"container-fluid no-padding\">\\n   <div class=\"footer row-fluid\">\\n    <div class=\"dark-block span12\">\\n     <footer>\\n      <div class=\"row-fluid brand\">\\n       <div class=\"span3\">\\n       </div>\\n       <div class=\"span6 middle\">\\n        <img alt=\"Logo gray\" class=\"brand\" height=\"36\" src=\"/assets/logos/logo_gray-895f864507d68e549bee2b02a0872a197ce42fe59b407ad4651db8acf446f06b.png\" width=\"156\"/>\\n       </div>\\n      </div>\\n      <div class=\"row-fluid\">\\n       <p class=\"list-header\">\\n        Subscriptions\\n       </p>\\n       <p class=\"sitemap\">\\n        <a href=\"http://www.subscriptions.bookpage.com/bookstore\" target=\"_blank\">\\n         Bookstore\\n        </a>\\n        •\\n        <a href=\"http://www.subscriptions.bookpage.com/library\" target=\"_blank\">\\n         Library\\n        </a>\\n        •\\n        <a href=\"http://MIurl.cc/Z6eD1pmI\" target=\"_blank\">\\n         Individual\\n        </a>\\n        •\\n        <a href=\"https://www.amazon.com/BookPage/dp/B00ATRKG30/ref=sr_1_1?ie=UTF8&amp;qid=1533306733&amp;sr=8-1&amp;keywords=bookpage\">\\n         Digital\\n        </a>\\n        •\\n        <a href=\"/content/locations\">\\n         Find BookPage\\n        </a>\\n       </p>\\n      </div>\\n      <div class=\"row-fluid\">\\n       <p class=\"list-header\">\\n        Company\\n       </p>\\n       <p class=\"sitemap\">\\n        <a href=\"/content/about-us\">\\n         About BookPage\\n        </a>\\n        •\\n        <a href=\"/content/advertise\">\\n         Advertise\\n        </a>\\n        •\\n        <a href=\"/content/contact-us\">\\n         Contact Us\\n        </a>\\n        •\\n        <a href=\"/content/privacy\">\\n         Privacy Policy\\n        </a>\\n        •\\n        <a href=\"/content/submission-guidelines\">\\n         Submission Guidelines\\n        </a>\\n       </p>\\n      </div>\\n      <div class=\"row-fluid\">\\n       <div class=\"social-block\">\\n        <a href=\"https://www.facebook.com/pages/BookPage/116675947874\">\\n         <i class=\"zmdi zmdi-facebook-box\">\\n         </i>\\n        </a>\\n        <a href=\"https://twitter.com/bookpage\">\\n         <i class=\"zmdi zmdi-twitter-box\">\\n         </i>\\n        </a>\\n        <a href=\"https://www.instagram.com/readbookpage/?hl=en\">\\n         <i class=\"zmdi zmdi-instagram\">\\n         </i>\\n        </a>\\n       </div>\\n      </div>\\n      <div class=\"row-fluid copyright\">\\n       <p>\\n        © 1996-2020 BookPage and ProMotion, inc. | 2143 Belcourt Avenue, Nashville, TN 37212\\n       </p>\\n      </div>\\n     </footer>\\n    </div>\\n   </div>\\n  </div>\\n  <script src=\"/assets/application-8a7d9ed6d528157c163702ce8da91235bc386358e07d32fbb4658ae48c768826.js\">\\n  </script>\\n  <script id=\"e2ma-embed\" type=\"text/javascript\">\\n   window.e2ma=window.e2ma||{};e2ma.accountId=\\'28888\\';\\n  </script>\\n  <script async=\"async\" src=\"//dk98ddgl0znzm.cloudfront.net/e2ma.js\">\\n  </script>\\n </body>\\n</html>\\n'"
      ]
     },
     "execution_count": 2,
     "metadata": {},
     "output_type": "execute_result"
    }
   ],
   "source": [
    "book=BS(page.content,'html.parser')\n",
    "book.prettify()"
   ]
  },
  {
   "cell_type": "code",
   "execution_count": 3,
   "metadata": {},
   "outputs": [],
   "source": [
    "book_name=[]\n",
    "author_name = []\n",
    "genre = []\n",
    "book_review = []"
   ]
  },
  {
   "cell_type": "code",
   "execution_count": 4,
   "metadata": {},
   "outputs": [
    {
     "data": {
      "text/plain": [
       "[<h4 class=\"italic\">\n",
       " <a href=\"/reviews/25615-olivia-dade-spoiler-alert-romance\"> <span style=\"font-style:normal;\">★ </span>Spoiler Alert</a>\n",
       " </h4>,\n",
       " <h4 class=\"italic\">\n",
       " <a href=\"/reviews/25591-tessa-bailey-tools-engagement-romance\">Tools of Engagement</a>\n",
       " </h4>,\n",
       " <h4 class=\"italic\">\n",
       " <a href=\"/reviews/25502-julia-london-you-lucky-dog-romance\">You Lucky Dog</a>\n",
       " </h4>,\n",
       " <h4 class=\"italic\">\n",
       " <a href=\"/reviews/25497-sabrina-jeffries-who-wants-to-marry-duke-romance\">Who Wants to Marry a Duke</a>\n",
       " </h4>,\n",
       " <h4 class=\"italic\">\n",
       " <a href=\"/reviews/25499-mary-balogh-someone-to-romance-romance\"> <span style=\"font-style:normal;\">★ </span>Someone to Romance</a>\n",
       " </h4>,\n",
       " <h4 class=\"italic\">\n",
       " <a href=\"/reviews/25426-alexis-daria-you-had-me-at-hola-romance\">You Had Me at Hola</a>\n",
       " </h4>,\n",
       " <h4 class=\"italic\">\n",
       " <a href=\"/reviews/25389-elle-wright-way-you-tempt-me-romance\">The Way You Tempt Me</a>\n",
       " </h4>,\n",
       " <h4 class=\"italic\">\n",
       " <a href=\"/reviews/25382-milla-vane-touch-snow-stone-romance\">A Touch of Stone and Snow</a>\n",
       " </h4>,\n",
       " <h4 class=\"italic\">\n",
       " <a href=\"/reviews/25297-kerry-winfrey-not-like-movies-romance\">Not Like the Movies</a>\n",
       " </h4>,\n",
       " <h4 class=\"italic\">\n",
       " <a href=\"/reviews/25279-sarah-maclean-daring-duke-romance\">Daring and the Duke</a>\n",
       " </h4>]"
      ]
     },
     "execution_count": 4,
     "metadata": {},
     "output_type": "execute_result"
    }
   ],
   "source": [
    "name = book.find_all('h4', class_ = 'italic')\n",
    "name"
   ]
  },
  {
   "cell_type": "code",
   "execution_count": 5,
   "metadata": {},
   "outputs": [
    {
     "data": {
      "text/plain": [
       "['\\n ★ Spoiler Alert\\n',\n",
       " '\\nTools of Engagement\\n',\n",
       " '\\nYou Lucky Dog\\n',\n",
       " '\\nWho Wants to Marry a Duke\\n',\n",
       " '\\n ★ Someone to Romance\\n',\n",
       " '\\nYou Had Me at Hola\\n',\n",
       " '\\nThe Way You Tempt Me\\n',\n",
       " '\\nA Touch of Stone and Snow\\n',\n",
       " '\\nNot Like the Movies\\n',\n",
       " '\\nDaring and the Duke\\n']"
      ]
     },
     "execution_count": 5,
     "metadata": {},
     "output_type": "execute_result"
    }
   ],
   "source": [
    "for i in name:\n",
    "    book_name.append(i.text)\n",
    "book_name"
   ]
  },
  {
   "cell_type": "code",
   "execution_count": 6,
   "metadata": {},
   "outputs": [
    {
     "data": {
      "text/plain": [
       "[<p class=\"sans bold\">\n",
       " Olivia Dade\n",
       " </p>,\n",
       " <p class=\"sans bold\">\n",
       " Tessa Bailey\n",
       " </p>,\n",
       " <p class=\"sans bold\">\n",
       " Julia London\n",
       " </p>,\n",
       " <p class=\"sans bold\">\n",
       " Sabrina Jeffries\n",
       " </p>,\n",
       " <p class=\"sans bold\">\n",
       " Mary Balogh\n",
       " </p>,\n",
       " <p class=\"sans bold\">\n",
       " Alexis Daria\n",
       " </p>,\n",
       " <p class=\"sans bold\">\n",
       " Elle Wright\n",
       " </p>,\n",
       " <p class=\"sans bold\">\n",
       " Milla Vane\n",
       " </p>,\n",
       " <p class=\"sans bold\">\n",
       " Kerry Winfrey\n",
       " </p>,\n",
       " <p class=\"sans bold\">\n",
       " Sarah MacLean\n",
       " </p>]"
      ]
     },
     "execution_count": 6,
     "metadata": {},
     "output_type": "execute_result"
    }
   ],
   "source": [
    "Auther=book.find_all('p', class_ = 'sans bold')\n",
    "Auther"
   ]
  },
  {
   "cell_type": "code",
   "execution_count": 7,
   "metadata": {},
   "outputs": [
    {
     "data": {
      "text/plain": [
       "['\\nOlivia Dade\\n',\n",
       " '\\nTessa Bailey\\n',\n",
       " '\\nJulia London\\n',\n",
       " '\\nSabrina Jeffries\\n',\n",
       " '\\nMary Balogh\\n',\n",
       " '\\nAlexis Daria\\n',\n",
       " '\\nElle Wright\\n',\n",
       " '\\nMilla Vane\\n',\n",
       " '\\nKerry Winfrey\\n',\n",
       " '\\nSarah MacLean\\n']"
      ]
     },
     "execution_count": 7,
     "metadata": {},
     "output_type": "execute_result"
    }
   ],
   "source": [
    "for i in Auther:\n",
    "    author_name.append(i.text)\n",
    "author_name"
   ]
  },
  {
   "cell_type": "code",
   "execution_count": 8,
   "metadata": {},
   "outputs": [
    {
     "data": {
      "text/plain": [
       "[<p class=\"genre-links hidden-phone\">\n",
       " <a href=\"/search?book_genre=romance\">Romance</a>\n",
       "  / \n",
       " <a href=\"/search?book_genre=contemporary_romance\">Contemporary Romance</a>\n",
       " </p>,\n",
       " <p class=\"genre-links hidden-phone\">\n",
       " <a href=\"/search?book_genre=romance\">Romance</a>\n",
       "  / \n",
       " <a href=\"/search?book_genre=contemporary_romance\">Contemporary Romance</a>\n",
       " </p>,\n",
       " <p class=\"genre-links hidden-phone\">\n",
       " <a href=\"/search?book_genre=romance\">Romance</a>\n",
       "  / \n",
       " <a href=\"/search?book_genre=contemporary_romance\">Contemporary Romance</a>\n",
       " </p>,\n",
       " <p class=\"genre-links hidden-phone\">\n",
       " <a href=\"/search?book_genre=romance\">Romance</a>\n",
       "  / \n",
       " <a href=\"/search?book_genre=historical_romance\">Historical Romance</a>\n",
       " </p>,\n",
       " <p class=\"genre-links hidden-phone\">\n",
       " <a href=\"/search?book_genre=romance\">Romance</a>\n",
       "  / \n",
       " <a href=\"/search?book_genre=historical_romance\">Historical Romance</a>\n",
       " </p>,\n",
       " <p class=\"genre-links hidden-phone\">\n",
       " <a href=\"/search?book_genre=romance\">Romance</a>\n",
       "  / \n",
       " <a href=\"/search?book_genre=contemporary_romance\">Contemporary Romance</a>\n",
       " </p>,\n",
       " <p class=\"genre-links hidden-phone\">\n",
       " <a href=\"/search?book_genre=romance\">Romance</a>\n",
       "  / \n",
       " <a href=\"/search?book_genre=contemporary_romance\">Contemporary Romance</a>\n",
       " </p>,\n",
       " <p class=\"genre-links hidden-phone\">\n",
       " <a href=\"/search?book_genre=romance\">Romance</a>\n",
       "  / \n",
       " <a href=\"/search?book_genre=fantasy_romance\">Fantasy Romance</a>\n",
       " </p>,\n",
       " <p class=\"genre-links hidden-phone\">\n",
       " <a href=\"/search?book_genre=romance\">Romance</a>\n",
       "  / \n",
       " <a href=\"/search?book_genre=contemporary_romance\">Contemporary Romance</a>\n",
       " </p>,\n",
       " <p class=\"genre-links hidden-phone\">\n",
       " <a href=\"/search?book_genre=romance\">Romance</a>\n",
       "  / \n",
       " <a href=\"/search?book_genre=historical_romance\">Historical Romance</a>\n",
       " </p>]"
      ]
     },
     "execution_count": 8,
     "metadata": {},
     "output_type": "execute_result"
    }
   ],
   "source": [
    "Genre = book.find_all('p', class_='genre-links hidden-phone')\n",
    "Genre"
   ]
  },
  {
   "cell_type": "code",
   "execution_count": 9,
   "metadata": {},
   "outputs": [
    {
     "data": {
      "text/plain": [
       "['\\nRomance\\n / \\nContemporary Romance\\n',\n",
       " '\\nRomance\\n / \\nContemporary Romance\\n',\n",
       " '\\nRomance\\n / \\nContemporary Romance\\n',\n",
       " '\\nRomance\\n / \\nHistorical Romance\\n',\n",
       " '\\nRomance\\n / \\nHistorical Romance\\n',\n",
       " '\\nRomance\\n / \\nContemporary Romance\\n',\n",
       " '\\nRomance\\n / \\nContemporary Romance\\n',\n",
       " '\\nRomance\\n / \\nFantasy Romance\\n',\n",
       " '\\nRomance\\n / \\nContemporary Romance\\n',\n",
       " '\\nRomance\\n / \\nHistorical Romance\\n']"
      ]
     },
     "execution_count": 9,
     "metadata": {},
     "output_type": "execute_result"
    }
   ],
   "source": [
    "for i in Genre:\n",
    "    genre.append(i.text)\n",
    "genre"
   ]
  },
  {
   "cell_type": "code",
   "execution_count": 10,
   "metadata": {},
   "outputs": [
    {
     "data": {
      "text/plain": [
       "['\\nIndie publishing favorite Olivia Dade’s Avon debut,\\xa0Spoiler Alert, is a funny and poignant triumph that defies expectation. On the surface, April Whittier and Marcus Caster-Rupp are opposites. Industry insiders and fans alike appreciate the good looks of Marcus, an actor on hit TV...\\n',\n",
       " '\\nTools of Engagement is the third and final book in Tessa Bailey’s contemporary Hot & Hammered series, and it’s every bit as fun and sexy as her readers have come to expect.\\n',\n",
       " '\\nA series of unfortunate events lead to a meet-disaster in Julia London’s affecting and ebullient romantic comedy You Lucky Dog.\\n',\n",
       " '\\nVeteran author of Regency romances Sabrina Jeffries is back with the third installment of her fun Duke Dynasty series, Who Wants to Marry A Duke.\\n',\n",
       " '\\nMoments after laying eyes on Lady Jessica Archer, Gabriel Thorne decides that she is the woman he will marry. But this isn’t love at first sight. It’s not even like at first sight.\\n',\n",
       " '\\nHigh drama isn’t just soap opera star Jasmine Lin Rodriguez’s day job, it’s also her life in Alexis Daria’s You Had Me at Hola. After getting her broken heart splashed over all the tabloid covers, she’s restrategized and plans to lead a man-free, drama-free,...\\n',\n",
       " '\\nElle Wright kicks off her new Pure Talent series with a bang in The Way You Tempt Me. This friends-to-lovers contemporary romance is sexy, addictive and deliciously dramatic. Xavier Starks is the heir apparent for the new sports division of his family’s talent agency, Pure Talent. As a...\\n',\n",
       " '\\nA Touch of Stone and Snow\\xa0is a grand and sweeping fantasy romance, an absorbing and story-rich tome of warring kingdoms and dangerous dragons.\\n',\n",
       " '\\nIf I had to sum up Kerry Winfrey’s new contemporary romance Not Like the Movies in one word, it would be charming. Chloe Sanderson is an optimistic, klutzy, hopeful ball of positivity, and reading from her perspective is the perfect nightcap to a long, arduous day. The caregiver for her...\\n',\n",
       " '\\nSarah MacLean wraps up her Bareknuckle Bastards series with the ultimate story of revenge and redemption. Fans of the first two books will enjoy seeing the series villain, Ewan, the Duke of Marwick, brought to his knees (literally and figuratively) by the strong-willed Grace. A long time ago,...\\n']"
      ]
     },
     "execution_count": 10,
     "metadata": {},
     "output_type": "execute_result"
    }
   ],
   "source": [
    "review = book.find_all('p' ,class_ = 'excerpt')\n",
    "review\n",
    "for i in review:\n",
    "    book_review.append(i.text)\n",
    "book_review"
   ]
  },
  {
   "cell_type": "code",
   "execution_count": 11,
   "metadata": {},
   "outputs": [
    {
     "data": {
      "text/html": [
       "<div>\n",
       "<style scoped>\n",
       "    .dataframe tbody tr th:only-of-type {\n",
       "        vertical-align: middle;\n",
       "    }\n",
       "\n",
       "    .dataframe tbody tr th {\n",
       "        vertical-align: top;\n",
       "    }\n",
       "\n",
       "    .dataframe thead th {\n",
       "        text-align: right;\n",
       "    }\n",
       "</style>\n",
       "<table border=\"1\" class=\"dataframe\">\n",
       "  <thead>\n",
       "    <tr style=\"text-align: right;\">\n",
       "      <th></th>\n",
       "      <th>name</th>\n",
       "      <th>Auther</th>\n",
       "      <th>Genre</th>\n",
       "      <th>review</th>\n",
       "    </tr>\n",
       "  </thead>\n",
       "  <tbody>\n",
       "    <tr>\n",
       "      <th>0</th>\n",
       "      <td>\\n ★ Spoiler Alert\\n</td>\n",
       "      <td>\\nOlivia Dade\\n</td>\n",
       "      <td>\\nRomance\\n / \\nContemporary Romance\\n</td>\n",
       "      <td>\\nIndie publishing favorite Olivia Dade’s Avon...</td>\n",
       "    </tr>\n",
       "    <tr>\n",
       "      <th>1</th>\n",
       "      <td>\\nTools of Engagement\\n</td>\n",
       "      <td>\\nTessa Bailey\\n</td>\n",
       "      <td>\\nRomance\\n / \\nContemporary Romance\\n</td>\n",
       "      <td>\\nTools of Engagement is the third and final b...</td>\n",
       "    </tr>\n",
       "    <tr>\n",
       "      <th>2</th>\n",
       "      <td>\\nYou Lucky Dog\\n</td>\n",
       "      <td>\\nJulia London\\n</td>\n",
       "      <td>\\nRomance\\n / \\nContemporary Romance\\n</td>\n",
       "      <td>\\nA series of unfortunate events lead to a mee...</td>\n",
       "    </tr>\n",
       "    <tr>\n",
       "      <th>3</th>\n",
       "      <td>\\nWho Wants to Marry a Duke\\n</td>\n",
       "      <td>\\nSabrina Jeffries\\n</td>\n",
       "      <td>\\nRomance\\n / \\nHistorical Romance\\n</td>\n",
       "      <td>\\nVeteran author of Regency romances Sabrina J...</td>\n",
       "    </tr>\n",
       "    <tr>\n",
       "      <th>4</th>\n",
       "      <td>\\n ★ Someone to Romance\\n</td>\n",
       "      <td>\\nMary Balogh\\n</td>\n",
       "      <td>\\nRomance\\n / \\nHistorical Romance\\n</td>\n",
       "      <td>\\nMoments after laying eyes on Lady Jessica Ar...</td>\n",
       "    </tr>\n",
       "    <tr>\n",
       "      <th>5</th>\n",
       "      <td>\\nYou Had Me at Hola\\n</td>\n",
       "      <td>\\nAlexis Daria\\n</td>\n",
       "      <td>\\nRomance\\n / \\nContemporary Romance\\n</td>\n",
       "      <td>\\nHigh drama isn’t just soap opera star Jasmin...</td>\n",
       "    </tr>\n",
       "    <tr>\n",
       "      <th>6</th>\n",
       "      <td>\\nThe Way You Tempt Me\\n</td>\n",
       "      <td>\\nElle Wright\\n</td>\n",
       "      <td>\\nRomance\\n / \\nContemporary Romance\\n</td>\n",
       "      <td>\\nElle Wright kicks off her new Pure Talent se...</td>\n",
       "    </tr>\n",
       "    <tr>\n",
       "      <th>7</th>\n",
       "      <td>\\nA Touch of Stone and Snow\\n</td>\n",
       "      <td>\\nMilla Vane\\n</td>\n",
       "      <td>\\nRomance\\n / \\nFantasy Romance\\n</td>\n",
       "      <td>\\nA Touch of Stone and Snow is a grand and swe...</td>\n",
       "    </tr>\n",
       "    <tr>\n",
       "      <th>8</th>\n",
       "      <td>\\nNot Like the Movies\\n</td>\n",
       "      <td>\\nKerry Winfrey\\n</td>\n",
       "      <td>\\nRomance\\n / \\nContemporary Romance\\n</td>\n",
       "      <td>\\nIf I had to sum up Kerry Winfrey’s new conte...</td>\n",
       "    </tr>\n",
       "    <tr>\n",
       "      <th>9</th>\n",
       "      <td>\\nDaring and the Duke\\n</td>\n",
       "      <td>\\nSarah MacLean\\n</td>\n",
       "      <td>\\nRomance\\n / \\nHistorical Romance\\n</td>\n",
       "      <td>\\nSarah MacLean wraps up her Bareknuckle Basta...</td>\n",
       "    </tr>\n",
       "  </tbody>\n",
       "</table>\n",
       "</div>"
      ],
      "text/plain": [
       "                            name                Auther  \\\n",
       "0           \\n ★ Spoiler Alert\\n       \\nOlivia Dade\\n   \n",
       "1        \\nTools of Engagement\\n      \\nTessa Bailey\\n   \n",
       "2              \\nYou Lucky Dog\\n      \\nJulia London\\n   \n",
       "3  \\nWho Wants to Marry a Duke\\n  \\nSabrina Jeffries\\n   \n",
       "4      \\n ★ Someone to Romance\\n       \\nMary Balogh\\n   \n",
       "5         \\nYou Had Me at Hola\\n      \\nAlexis Daria\\n   \n",
       "6       \\nThe Way You Tempt Me\\n       \\nElle Wright\\n   \n",
       "7  \\nA Touch of Stone and Snow\\n        \\nMilla Vane\\n   \n",
       "8        \\nNot Like the Movies\\n     \\nKerry Winfrey\\n   \n",
       "9        \\nDaring and the Duke\\n     \\nSarah MacLean\\n   \n",
       "\n",
       "                                    Genre  \\\n",
       "0  \\nRomance\\n / \\nContemporary Romance\\n   \n",
       "1  \\nRomance\\n / \\nContemporary Romance\\n   \n",
       "2  \\nRomance\\n / \\nContemporary Romance\\n   \n",
       "3    \\nRomance\\n / \\nHistorical Romance\\n   \n",
       "4    \\nRomance\\n / \\nHistorical Romance\\n   \n",
       "5  \\nRomance\\n / \\nContemporary Romance\\n   \n",
       "6  \\nRomance\\n / \\nContemporary Romance\\n   \n",
       "7       \\nRomance\\n / \\nFantasy Romance\\n   \n",
       "8  \\nRomance\\n / \\nContemporary Romance\\n   \n",
       "9    \\nRomance\\n / \\nHistorical Romance\\n   \n",
       "\n",
       "                                              review  \n",
       "0  \\nIndie publishing favorite Olivia Dade’s Avon...  \n",
       "1  \\nTools of Engagement is the third and final b...  \n",
       "2  \\nA series of unfortunate events lead to a mee...  \n",
       "3  \\nVeteran author of Regency romances Sabrina J...  \n",
       "4  \\nMoments after laying eyes on Lady Jessica Ar...  \n",
       "5  \\nHigh drama isn’t just soap opera star Jasmin...  \n",
       "6  \\nElle Wright kicks off her new Pure Talent se...  \n",
       "7  \\nA Touch of Stone and Snow is a grand and swe...  \n",
       "8  \\nIf I had to sum up Kerry Winfrey’s new conte...  \n",
       "9  \\nSarah MacLean wraps up her Bareknuckle Basta...  "
      ]
     },
     "execution_count": 11,
     "metadata": {},
     "output_type": "execute_result"
    }
   ],
   "source": [
    "import pandas as pd\n",
    "Books=pd.DataFrame({})\n",
    "Books['name'] = book_name\n",
    "Books['Auther'] = author_name\n",
    "Books['Genre'] = genre\n",
    "Books['review'] = book_review\n",
    "Books"
   ]
  },
  {
   "cell_type": "code",
   "execution_count": null,
   "metadata": {},
   "outputs": [],
   "source": []
  }
 ],
 "metadata": {
  "kernelspec": {
   "display_name": "Python 3",
   "language": "python",
   "name": "python3"
  },
  "language_info": {
   "codemirror_mode": {
    "name": "ipython",
    "version": 3
   },
   "file_extension": ".py",
   "mimetype": "text/x-python",
   "name": "python",
   "nbconvert_exporter": "python",
   "pygments_lexer": "ipython3",
   "version": "3.8.3"
  }
 },
 "nbformat": 4,
 "nbformat_minor": 4
}
