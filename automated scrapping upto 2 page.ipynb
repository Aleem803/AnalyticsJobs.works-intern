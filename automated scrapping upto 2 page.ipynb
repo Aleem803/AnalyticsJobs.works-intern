{
 "cells": [
  {
   "cell_type": "markdown",
   "metadata": {},
   "source": [
    "# Q1. Write a python program to scrape data for “Data Analyst” Job position in\"Bangalore” location. You have to scrape the job-title, job-location, company_name,experience_required.\n",
    "\n",
    "#importing required Liabraries"
   ]
  },
  {
   "cell_type": "code",
   "execution_count": 1,
   "metadata": {},
   "outputs": [],
   "source": [
    "#importing required Liabraries\n",
    "import selenium\n",
    "import pandas as pd\n",
    "from selenium import webdriver"
   ]
  },
  {
   "cell_type": "code",
   "execution_count": 2,
   "metadata": {},
   "outputs": [],
   "source": [
    "#connecting to web driver\n",
    "driver = webdriver.Chrome(r'G:\\chromedriver.exe')\n",
    "\n",
    "url = \"https://www.naukri.com/data-analyst-jobs?cityType=25.17.74\"\n",
    "\n",
    "driver.get(url)"
   ]
  },
  {
   "cell_type": "code",
   "execution_count": 3,
   "metadata": {},
   "outputs": [],
   "source": [
    "Job_Title =[]\n",
    "Location_lists = []\n",
    "Company_Names = []\n",
    "Experiance_lists = []"
   ]
  },
  {
   "cell_type": "code",
   "execution_count": 4,
   "metadata": {},
   "outputs": [
    {
     "data": {
      "text/plain": [
       "[<selenium.webdriver.remote.webelement.WebElement (session=\"db3867c331d67c44cba4732c3faba6ef\", element=\"e5302d2b-8a18-48dc-a13b-99d0dad1d7c5\")>,\n",
       " <selenium.webdriver.remote.webelement.WebElement (session=\"db3867c331d67c44cba4732c3faba6ef\", element=\"bd109586-954f-4d9f-a3c1-bddfac53fa9c\")>,\n",
       " <selenium.webdriver.remote.webelement.WebElement (session=\"db3867c331d67c44cba4732c3faba6ef\", element=\"1bb10976-c449-41e6-a747-68fed70e7b73\")>,\n",
       " <selenium.webdriver.remote.webelement.WebElement (session=\"db3867c331d67c44cba4732c3faba6ef\", element=\"a88322a7-b3f2-47b3-979b-4f0d0ea1c83e\")>,\n",
       " <selenium.webdriver.remote.webelement.WebElement (session=\"db3867c331d67c44cba4732c3faba6ef\", element=\"e8df195b-b206-4778-bbf4-5a0361886c62\")>,\n",
       " <selenium.webdriver.remote.webelement.WebElement (session=\"db3867c331d67c44cba4732c3faba6ef\", element=\"870d3721-6c66-457e-9e16-6da58d92ae25\")>,\n",
       " <selenium.webdriver.remote.webelement.WebElement (session=\"db3867c331d67c44cba4732c3faba6ef\", element=\"604b66e4-6c56-4807-9698-f9bd58d841a3\")>,\n",
       " <selenium.webdriver.remote.webelement.WebElement (session=\"db3867c331d67c44cba4732c3faba6ef\", element=\"554b98d5-9cde-4349-8a2b-fc323fd02597\")>,\n",
       " <selenium.webdriver.remote.webelement.WebElement (session=\"db3867c331d67c44cba4732c3faba6ef\", element=\"5e8090e4-5915-4c35-be50-a794aaea79ef\")>,\n",
       " <selenium.webdriver.remote.webelement.WebElement (session=\"db3867c331d67c44cba4732c3faba6ef\", element=\"d931f701-25c1-4046-9f2a-9c00e965e9c4\")>,\n",
       " <selenium.webdriver.remote.webelement.WebElement (session=\"db3867c331d67c44cba4732c3faba6ef\", element=\"505378b2-54f1-492e-a40a-eba0184b1198\")>,\n",
       " <selenium.webdriver.remote.webelement.WebElement (session=\"db3867c331d67c44cba4732c3faba6ef\", element=\"7d2139a5-40a9-4fbe-b008-7c026b7d8788\")>,\n",
       " <selenium.webdriver.remote.webelement.WebElement (session=\"db3867c331d67c44cba4732c3faba6ef\", element=\"361d7d06-a14e-433d-8ddc-258fd2f51a4e\")>,\n",
       " <selenium.webdriver.remote.webelement.WebElement (session=\"db3867c331d67c44cba4732c3faba6ef\", element=\"9e71146c-e7fa-4fca-b212-52af2e5cbc5c\")>,\n",
       " <selenium.webdriver.remote.webelement.WebElement (session=\"db3867c331d67c44cba4732c3faba6ef\", element=\"27da332a-5f76-414b-bbb1-a27a496f8ce8\")>,\n",
       " <selenium.webdriver.remote.webelement.WebElement (session=\"db3867c331d67c44cba4732c3faba6ef\", element=\"4082b576-f4f4-4347-80e7-8c44bb4c3a71\")>,\n",
       " <selenium.webdriver.remote.webelement.WebElement (session=\"db3867c331d67c44cba4732c3faba6ef\", element=\"2445f8de-7e64-4393-88cb-19f8a4694b4e\")>,\n",
       " <selenium.webdriver.remote.webelement.WebElement (session=\"db3867c331d67c44cba4732c3faba6ef\", element=\"e8f66737-63bc-4d19-a960-b7f0ff1fec18\")>,\n",
       " <selenium.webdriver.remote.webelement.WebElement (session=\"db3867c331d67c44cba4732c3faba6ef\", element=\"950542d4-7153-444d-843e-0b9c77ae7648\")>,\n",
       " <selenium.webdriver.remote.webelement.WebElement (session=\"db3867c331d67c44cba4732c3faba6ef\", element=\"056a2532-f3c5-4e2c-b05a-b405b762c15a\")>]"
      ]
     },
     "execution_count": 4,
     "metadata": {},
     "output_type": "execute_result"
    }
   ],
   "source": [
    "title = driver.find_elements_by_xpath(\"//a[@class = 'title fw500 ellipsis']\")\n",
    "title"
   ]
  },
  {
   "cell_type": "code",
   "execution_count": 5,
   "metadata": {},
   "outputs": [
    {
     "data": {
      "text/plain": [
       "['Immediate opening For Data Scientist/Data Analyst',\n",
       " 'Business Analyst and Data Analyst',\n",
       " 'Data Analyst',\n",
       " 'Intern - DFM Data Analyst',\n",
       " 'Hiring Data Analysts on Contract Third party payroll',\n",
       " 'Reliability Data Analyst',\n",
       " 'Senior Data Analyst',\n",
       " 'Data Analyst',\n",
       " 'Data Analyst / Business Analyst',\n",
       " 'Hiring For Data Analyst RE) - Bangalore',\n",
       " 'Data Analyst (Telcom domain)',\n",
       " 'Specialist I / II - Data Analyst',\n",
       " 'Junior Data Analyst',\n",
       " 'Data Analyst',\n",
       " 'Product Manager - Data Scientist / Data Analyst',\n",
       " 'Data Analyst',\n",
       " 'Senior Data Analyst',\n",
       " 'Data Analyst',\n",
       " 'Data Analyst',\n",
       " 'Business Data Analyst']"
      ]
     },
     "execution_count": 5,
     "metadata": {},
     "output_type": "execute_result"
    }
   ],
   "source": [
    "for i in title:\n",
    "    Job_Title.append(i.text)\n",
    "Job_Title"
   ]
  },
  {
   "cell_type": "code",
   "execution_count": 6,
   "metadata": {},
   "outputs": [
    {
     "data": {
      "text/plain": [
       "[<selenium.webdriver.remote.webelement.WebElement (session=\"db3867c331d67c44cba4732c3faba6ef\", element=\"fb0e452b-52e7-42d9-8701-ca30b4377860\")>,\n",
       " <selenium.webdriver.remote.webelement.WebElement (session=\"db3867c331d67c44cba4732c3faba6ef\", element=\"a8a4428d-0715-4edc-8d2e-745c394e3db2\")>,\n",
       " <selenium.webdriver.remote.webelement.WebElement (session=\"db3867c331d67c44cba4732c3faba6ef\", element=\"78fd8038-c376-4b15-83bb-4a258b6caea4\")>,\n",
       " <selenium.webdriver.remote.webelement.WebElement (session=\"db3867c331d67c44cba4732c3faba6ef\", element=\"4d01b50f-ff41-4a85-ba15-0ac508f6d259\")>,\n",
       " <selenium.webdriver.remote.webelement.WebElement (session=\"db3867c331d67c44cba4732c3faba6ef\", element=\"f3228e3b-a666-430f-9479-3036e54943dc\")>,\n",
       " <selenium.webdriver.remote.webelement.WebElement (session=\"db3867c331d67c44cba4732c3faba6ef\", element=\"c51dcab6-1371-4619-9316-e0ce8e21b8cb\")>,\n",
       " <selenium.webdriver.remote.webelement.WebElement (session=\"db3867c331d67c44cba4732c3faba6ef\", element=\"a9f6a67c-febb-4649-9d55-7d90c936c52a\")>,\n",
       " <selenium.webdriver.remote.webelement.WebElement (session=\"db3867c331d67c44cba4732c3faba6ef\", element=\"de94084e-af57-47bc-a3c3-3fe8c061d1c1\")>,\n",
       " <selenium.webdriver.remote.webelement.WebElement (session=\"db3867c331d67c44cba4732c3faba6ef\", element=\"9fe3f5d1-4e0b-405c-b635-b11b02f0868b\")>,\n",
       " <selenium.webdriver.remote.webelement.WebElement (session=\"db3867c331d67c44cba4732c3faba6ef\", element=\"edd18b28-ab0a-4586-92cd-952de0b00846\")>,\n",
       " <selenium.webdriver.remote.webelement.WebElement (session=\"db3867c331d67c44cba4732c3faba6ef\", element=\"d9243483-7bd6-4602-97b7-7c2146444218\")>,\n",
       " <selenium.webdriver.remote.webelement.WebElement (session=\"db3867c331d67c44cba4732c3faba6ef\", element=\"f68f01f2-472e-4c6f-98d0-5c33b353aa56\")>,\n",
       " <selenium.webdriver.remote.webelement.WebElement (session=\"db3867c331d67c44cba4732c3faba6ef\", element=\"b5eb0496-d7ed-43fd-b3cb-ecdce887918d\")>,\n",
       " <selenium.webdriver.remote.webelement.WebElement (session=\"db3867c331d67c44cba4732c3faba6ef\", element=\"7316c197-1bce-4e56-a734-4d5d5099ba78\")>,\n",
       " <selenium.webdriver.remote.webelement.WebElement (session=\"db3867c331d67c44cba4732c3faba6ef\", element=\"07b4d1aa-b5bc-4682-af3c-9d1869202015\")>,\n",
       " <selenium.webdriver.remote.webelement.WebElement (session=\"db3867c331d67c44cba4732c3faba6ef\", element=\"3e8c9bbc-2825-49a8-81e4-cbe295a5d0f3\")>,\n",
       " <selenium.webdriver.remote.webelement.WebElement (session=\"db3867c331d67c44cba4732c3faba6ef\", element=\"3fc19bc1-df48-40f1-bf3e-15ac284645e3\")>,\n",
       " <selenium.webdriver.remote.webelement.WebElement (session=\"db3867c331d67c44cba4732c3faba6ef\", element=\"1fab04b1-c9ed-4ef0-8517-acfaeb3c8813\")>,\n",
       " <selenium.webdriver.remote.webelement.WebElement (session=\"db3867c331d67c44cba4732c3faba6ef\", element=\"aca9fc0e-b8a4-4043-84c7-5aee82110bae\")>,\n",
       " <selenium.webdriver.remote.webelement.WebElement (session=\"db3867c331d67c44cba4732c3faba6ef\", element=\"1198de77-8769-4419-a161-37d1a2a59169\")>]"
      ]
     },
     "execution_count": 6,
     "metadata": {},
     "output_type": "execute_result"
    }
   ],
   "source": [
    "location =  driver.find_elements_by_xpath(\"//li[@class = 'fleft grey-text br2 placeHolderLi location']\")\n",
    "location"
   ]
  },
  {
   "cell_type": "code",
   "execution_count": 7,
   "metadata": {},
   "outputs": [
    {
     "data": {
      "text/plain": [
       "['Chennai, Pune, Bengaluru, Hyderabad',\n",
       " 'Delhi NCR, Bengaluru, Hyderabad',\n",
       " 'Chennai, Delhi NCR, Bengaluru',\n",
       " 'Bengaluru',\n",
       " 'Bengaluru',\n",
       " 'Bengaluru',\n",
       " 'Bengaluru',\n",
       " 'Bengaluru',\n",
       " 'Bengaluru',\n",
       " 'Bengaluru(Bellandur)',\n",
       " 'Bengaluru',\n",
       " 'Bengaluru',\n",
       " 'Bengaluru',\n",
       " 'Bengaluru',\n",
       " 'Bengaluru',\n",
       " 'Bengaluru',\n",
       " 'Bengaluru',\n",
       " 'Bengaluru',\n",
       " 'Bengaluru(2nd Phase JP Nagar)',\n",
       " 'Bengaluru']"
      ]
     },
     "execution_count": 7,
     "metadata": {},
     "output_type": "execute_result"
    }
   ],
   "source": [
    "for i in location:\n",
    "    Location_lists.append(i.text)\n",
    "Location_lists"
   ]
  },
  {
   "cell_type": "code",
   "execution_count": 8,
   "metadata": {},
   "outputs": [
    {
     "data": {
      "text/plain": [
       "[<selenium.webdriver.remote.webelement.WebElement (session=\"db3867c331d67c44cba4732c3faba6ef\", element=\"dbcab91c-0f46-4719-b186-73fc2d4bcff2\")>,\n",
       " <selenium.webdriver.remote.webelement.WebElement (session=\"db3867c331d67c44cba4732c3faba6ef\", element=\"8b97d890-2656-4875-8c00-06acec4a33fe\")>,\n",
       " <selenium.webdriver.remote.webelement.WebElement (session=\"db3867c331d67c44cba4732c3faba6ef\", element=\"fd336904-d2d1-4a14-81f2-d02129971cc5\")>,\n",
       " <selenium.webdriver.remote.webelement.WebElement (session=\"db3867c331d67c44cba4732c3faba6ef\", element=\"fbe9e7a7-7be6-4b58-8351-6e8c318126ae\")>,\n",
       " <selenium.webdriver.remote.webelement.WebElement (session=\"db3867c331d67c44cba4732c3faba6ef\", element=\"7315435f-1a49-4d16-ba3f-2970b28917de\")>,\n",
       " <selenium.webdriver.remote.webelement.WebElement (session=\"db3867c331d67c44cba4732c3faba6ef\", element=\"99b486b1-85b7-4d49-aa6d-3fd79a3c708b\")>,\n",
       " <selenium.webdriver.remote.webelement.WebElement (session=\"db3867c331d67c44cba4732c3faba6ef\", element=\"2c446ace-4835-454a-8146-590175ad1192\")>,\n",
       " <selenium.webdriver.remote.webelement.WebElement (session=\"db3867c331d67c44cba4732c3faba6ef\", element=\"853d3696-73ae-4299-ac17-edf9b55c2bb6\")>,\n",
       " <selenium.webdriver.remote.webelement.WebElement (session=\"db3867c331d67c44cba4732c3faba6ef\", element=\"a07207f8-d03b-4f76-81c8-5ec60307966b\")>,\n",
       " <selenium.webdriver.remote.webelement.WebElement (session=\"db3867c331d67c44cba4732c3faba6ef\", element=\"d645313e-5d97-4991-a559-d2169ea93a22\")>,\n",
       " <selenium.webdriver.remote.webelement.WebElement (session=\"db3867c331d67c44cba4732c3faba6ef\", element=\"7e50021a-4fba-4530-a443-5f1ed4ded093\")>,\n",
       " <selenium.webdriver.remote.webelement.WebElement (session=\"db3867c331d67c44cba4732c3faba6ef\", element=\"70c28055-716c-4c27-bd61-3d83564d8084\")>,\n",
       " <selenium.webdriver.remote.webelement.WebElement (session=\"db3867c331d67c44cba4732c3faba6ef\", element=\"0725b01b-f5e5-4e89-ad9e-86ba0e8a6378\")>,\n",
       " <selenium.webdriver.remote.webelement.WebElement (session=\"db3867c331d67c44cba4732c3faba6ef\", element=\"03c01b2a-f346-419b-aa7e-5cc94962ea89\")>,\n",
       " <selenium.webdriver.remote.webelement.WebElement (session=\"db3867c331d67c44cba4732c3faba6ef\", element=\"8fce7e42-2d10-4b4e-91b2-aa7ef4a81dc0\")>,\n",
       " <selenium.webdriver.remote.webelement.WebElement (session=\"db3867c331d67c44cba4732c3faba6ef\", element=\"95d94dec-acbf-432b-a7f9-3dccf58bc661\")>,\n",
       " <selenium.webdriver.remote.webelement.WebElement (session=\"db3867c331d67c44cba4732c3faba6ef\", element=\"eb7fc09e-7842-40ed-860a-1d8a101d1b54\")>,\n",
       " <selenium.webdriver.remote.webelement.WebElement (session=\"db3867c331d67c44cba4732c3faba6ef\", element=\"312959d0-6e1c-4517-a84d-07bb1d1cdeb2\")>,\n",
       " <selenium.webdriver.remote.webelement.WebElement (session=\"db3867c331d67c44cba4732c3faba6ef\", element=\"f1c8c8ac-f945-488c-9e5e-f1215dc8bc7a\")>,\n",
       " <selenium.webdriver.remote.webelement.WebElement (session=\"db3867c331d67c44cba4732c3faba6ef\", element=\"4b177223-685d-4650-8239-9abc7036916c\")>]"
      ]
     },
     "execution_count": 8,
     "metadata": {},
     "output_type": "execute_result"
    }
   ],
   "source": [
    "company = driver.find_elements_by_xpath(\"//a[@class = 'subTitle ellipsis fleft']\")\n",
    "company"
   ]
  },
  {
   "cell_type": "code",
   "execution_count": 9,
   "metadata": {},
   "outputs": [
    {
     "data": {
      "text/plain": [
       "['CAIA-Center For Artificial Intelligence & Advanced Analytics',\n",
       " 'Tech Mahindra Ltd.',\n",
       " 'Hk solutions',\n",
       " 'GLOBALFOUNDRIES Engineering Private Limited',\n",
       " 'Flipkart Internet Private Limited',\n",
       " 'Alstom Transport India Ltd.',\n",
       " 'Myntra',\n",
       " 'Ladder of changes',\n",
       " 'Altisource',\n",
       " 'TELEPERFORMANCE GLOBAL SERVICES',\n",
       " 'Oracle India Pvt. Ltd.',\n",
       " 'Philips India Limited',\n",
       " 'Cognizant Technology Solutions India Ltd',\n",
       " 'IBM India Pvt. Limited',\n",
       " 'Fortune HR Consultant',\n",
       " 'Snaphunt',\n",
       " 'Snaphunt',\n",
       " 'Simplify360',\n",
       " 'Liventus, Inc.',\n",
       " 'Kaplan']"
      ]
     },
     "execution_count": 9,
     "metadata": {},
     "output_type": "execute_result"
    }
   ],
   "source": [
    "for i in company:\n",
    "    Company_Names.append(i.text)\n",
    "Company_Names"
   ]
  },
  {
   "cell_type": "code",
   "execution_count": 10,
   "metadata": {},
   "outputs": [
    {
     "data": {
      "text/plain": [
       "[<selenium.webdriver.remote.webelement.WebElement (session=\"db3867c331d67c44cba4732c3faba6ef\", element=\"03cf0200-88bb-4fc7-b529-ac04788b5195\")>,\n",
       " <selenium.webdriver.remote.webelement.WebElement (session=\"db3867c331d67c44cba4732c3faba6ef\", element=\"80d03767-acbd-4a7e-8fd0-34a1d704c74e\")>,\n",
       " <selenium.webdriver.remote.webelement.WebElement (session=\"db3867c331d67c44cba4732c3faba6ef\", element=\"4402a7f9-da67-46bf-b337-492222997918\")>,\n",
       " <selenium.webdriver.remote.webelement.WebElement (session=\"db3867c331d67c44cba4732c3faba6ef\", element=\"b97d8ea4-d379-4841-b134-731c88a2669b\")>,\n",
       " <selenium.webdriver.remote.webelement.WebElement (session=\"db3867c331d67c44cba4732c3faba6ef\", element=\"00196858-d59c-44a0-88c0-38c3f5f1175e\")>,\n",
       " <selenium.webdriver.remote.webelement.WebElement (session=\"db3867c331d67c44cba4732c3faba6ef\", element=\"c9e17fe9-558d-4d51-a73b-44cb6682a6e2\")>,\n",
       " <selenium.webdriver.remote.webelement.WebElement (session=\"db3867c331d67c44cba4732c3faba6ef\", element=\"3e892712-37b9-4175-8df0-935a4f3a0b42\")>,\n",
       " <selenium.webdriver.remote.webelement.WebElement (session=\"db3867c331d67c44cba4732c3faba6ef\", element=\"02fb2013-7aa6-429b-bfca-940a008d65d1\")>,\n",
       " <selenium.webdriver.remote.webelement.WebElement (session=\"db3867c331d67c44cba4732c3faba6ef\", element=\"7a8d6df5-9b43-4de4-9fdb-90effe267d46\")>,\n",
       " <selenium.webdriver.remote.webelement.WebElement (session=\"db3867c331d67c44cba4732c3faba6ef\", element=\"31c79322-e091-4047-aa06-d0524c1030b4\")>,\n",
       " <selenium.webdriver.remote.webelement.WebElement (session=\"db3867c331d67c44cba4732c3faba6ef\", element=\"07597a12-f36e-4b78-add7-1b364d6653f9\")>,\n",
       " <selenium.webdriver.remote.webelement.WebElement (session=\"db3867c331d67c44cba4732c3faba6ef\", element=\"320b5518-f322-47d7-9e78-7267087f205a\")>,\n",
       " <selenium.webdriver.remote.webelement.WebElement (session=\"db3867c331d67c44cba4732c3faba6ef\", element=\"50bd19a3-7f01-43f1-941e-b8b9e63e5d10\")>,\n",
       " <selenium.webdriver.remote.webelement.WebElement (session=\"db3867c331d67c44cba4732c3faba6ef\", element=\"a6ca9598-a662-41be-8465-632f3e7565e3\")>,\n",
       " <selenium.webdriver.remote.webelement.WebElement (session=\"db3867c331d67c44cba4732c3faba6ef\", element=\"d4abb1bd-eabd-4597-b16d-80137ff8b986\")>,\n",
       " <selenium.webdriver.remote.webelement.WebElement (session=\"db3867c331d67c44cba4732c3faba6ef\", element=\"5ca7791e-56dc-44c8-9f4d-a787b8fc3f3d\")>,\n",
       " <selenium.webdriver.remote.webelement.WebElement (session=\"db3867c331d67c44cba4732c3faba6ef\", element=\"8ac3a878-6f7f-4f94-b829-8d93959269cd\")>,\n",
       " <selenium.webdriver.remote.webelement.WebElement (session=\"db3867c331d67c44cba4732c3faba6ef\", element=\"77c50ecf-77cd-437f-8d18-5d8567616467\")>,\n",
       " <selenium.webdriver.remote.webelement.WebElement (session=\"db3867c331d67c44cba4732c3faba6ef\", element=\"6c56dd8d-42e9-451e-b00a-0d3967cc3dc0\")>,\n",
       " <selenium.webdriver.remote.webelement.WebElement (session=\"db3867c331d67c44cba4732c3faba6ef\", element=\"55e37759-d272-460d-b83a-8a6103ca9d1c\")>]"
      ]
     },
     "execution_count": 10,
     "metadata": {},
     "output_type": "execute_result"
    }
   ],
   "source": [
    "experiance = driver.find_elements_by_xpath(\"//li[@class = 'fleft grey-text br2 placeHolderLi experience']\")\n",
    "experiance"
   ]
  },
  {
   "cell_type": "code",
   "execution_count": 11,
   "metadata": {},
   "outputs": [
    {
     "data": {
      "text/plain": [
       "['0-3 Yrs',\n",
       " '7-12 Yrs',\n",
       " '0-3 Yrs',\n",
       " '0-5 Yrs',\n",
       " '2-6 Yrs',\n",
       " '3-8 Yrs',\n",
       " '2-7 Yrs',\n",
       " '0-5 Yrs',\n",
       " '1-6 Yrs',\n",
       " '2-6 Yrs',\n",
       " '3-8 Yrs',\n",
       " '5-7 Yrs',\n",
       " '1-2 Yrs',\n",
       " '5-10 Yrs',\n",
       " '3-8 Yrs',\n",
       " '3-5 Yrs',\n",
       " '4-9 Yrs',\n",
       " '4-5 Yrs',\n",
       " '3-6 Yrs',\n",
       " '2-5 Yrs']"
      ]
     },
     "execution_count": 11,
     "metadata": {},
     "output_type": "execute_result"
    }
   ],
   "source": [
    "for i in experiance:\n",
    "    Experiance_lists.append(i.text)\n",
    "Experiance_lists"
   ]
  },
  {
   "cell_type": "code",
   "execution_count": 12,
   "metadata": {},
   "outputs": [],
   "source": [
    "next_ = driver.find_element_by_xpath(\"/html/body/div[1]/div[3]/div[2]/section[2]/div[3]/a[2]\")\n",
    "next_.click()"
   ]
  },
  {
   "cell_type": "code",
   "execution_count": 13,
   "metadata": {},
   "outputs": [
    {
     "data": {
      "text/plain": [
       "[<selenium.webdriver.remote.webelement.WebElement (session=\"db3867c331d67c44cba4732c3faba6ef\", element=\"7f1fb65d-6093-4f2a-b320-f39736ff3be6\")>,\n",
       " <selenium.webdriver.remote.webelement.WebElement (session=\"db3867c331d67c44cba4732c3faba6ef\", element=\"f2da76da-a0e2-46b7-bcd2-c04df63d52b8\")>,\n",
       " <selenium.webdriver.remote.webelement.WebElement (session=\"db3867c331d67c44cba4732c3faba6ef\", element=\"250f0653-7eba-4876-be93-48be245cb14f\")>,\n",
       " <selenium.webdriver.remote.webelement.WebElement (session=\"db3867c331d67c44cba4732c3faba6ef\", element=\"c173d1b5-6cda-4c17-8371-fbe33c45924c\")>,\n",
       " <selenium.webdriver.remote.webelement.WebElement (session=\"db3867c331d67c44cba4732c3faba6ef\", element=\"84ead928-ef95-412f-b2f0-2d9c0ff3d6e7\")>,\n",
       " <selenium.webdriver.remote.webelement.WebElement (session=\"db3867c331d67c44cba4732c3faba6ef\", element=\"1c220330-a9a9-4702-b557-6dd79008351d\")>,\n",
       " <selenium.webdriver.remote.webelement.WebElement (session=\"db3867c331d67c44cba4732c3faba6ef\", element=\"f0435427-97e7-4101-8ee4-546a3f4e2de5\")>,\n",
       " <selenium.webdriver.remote.webelement.WebElement (session=\"db3867c331d67c44cba4732c3faba6ef\", element=\"03258344-7eca-4aca-8ffc-ea4332af6b47\")>,\n",
       " <selenium.webdriver.remote.webelement.WebElement (session=\"db3867c331d67c44cba4732c3faba6ef\", element=\"52f9290f-6d3e-4f8f-bcba-9cd21d69fd91\")>,\n",
       " <selenium.webdriver.remote.webelement.WebElement (session=\"db3867c331d67c44cba4732c3faba6ef\", element=\"39a71de9-5252-48e5-9ea2-1e161aa1a2a3\")>,\n",
       " <selenium.webdriver.remote.webelement.WebElement (session=\"db3867c331d67c44cba4732c3faba6ef\", element=\"66409f87-717e-4300-8d49-baf68e8d2013\")>,\n",
       " <selenium.webdriver.remote.webelement.WebElement (session=\"db3867c331d67c44cba4732c3faba6ef\", element=\"42b033e9-c145-4e82-a2a8-dd64bafbb807\")>,\n",
       " <selenium.webdriver.remote.webelement.WebElement (session=\"db3867c331d67c44cba4732c3faba6ef\", element=\"43f1f5f0-a46f-43b6-989c-0e3f409e750c\")>,\n",
       " <selenium.webdriver.remote.webelement.WebElement (session=\"db3867c331d67c44cba4732c3faba6ef\", element=\"1809f549-2e83-416e-9b8d-6a5950fae37b\")>,\n",
       " <selenium.webdriver.remote.webelement.WebElement (session=\"db3867c331d67c44cba4732c3faba6ef\", element=\"42f76556-44d9-4ac5-832a-0db692c86b6a\")>,\n",
       " <selenium.webdriver.remote.webelement.WebElement (session=\"db3867c331d67c44cba4732c3faba6ef\", element=\"e9d81b1f-83af-43ab-ac19-34cbbaa218c7\")>,\n",
       " <selenium.webdriver.remote.webelement.WebElement (session=\"db3867c331d67c44cba4732c3faba6ef\", element=\"2585d80e-6860-489e-a837-e524d9bdfa3e\")>,\n",
       " <selenium.webdriver.remote.webelement.WebElement (session=\"db3867c331d67c44cba4732c3faba6ef\", element=\"edc8e476-f90b-4ca2-9941-538b65bafc53\")>,\n",
       " <selenium.webdriver.remote.webelement.WebElement (session=\"db3867c331d67c44cba4732c3faba6ef\", element=\"fee94538-e887-4ee8-ad43-f97d25a7db66\")>,\n",
       " <selenium.webdriver.remote.webelement.WebElement (session=\"db3867c331d67c44cba4732c3faba6ef\", element=\"1e6522ba-318f-4bc9-b442-4414750dbff0\")>]"
      ]
     },
     "execution_count": 13,
     "metadata": {},
     "output_type": "execute_result"
    }
   ],
   "source": [
    "title2 = driver.find_elements_by_xpath(\"//a[@class = 'title fw500 ellipsis']\")\n",
    "title2"
   ]
  },
  {
   "cell_type": "code",
   "execution_count": 14,
   "metadata": {},
   "outputs": [
    {
     "data": {
      "text/plain": [
       "['Immediate opening For Data Scientist/Data Analyst',\n",
       " 'Business Analyst and Data Analyst',\n",
       " 'Data Analyst',\n",
       " 'Intern - DFM Data Analyst',\n",
       " 'Hiring Data Analysts on Contract Third party payroll',\n",
       " 'Reliability Data Analyst',\n",
       " 'Senior Data Analyst',\n",
       " 'Data Analyst',\n",
       " 'Data Analyst / Business Analyst',\n",
       " 'Hiring For Data Analyst RE) - Bangalore',\n",
       " 'Data Analyst (Telcom domain)',\n",
       " 'Specialist I / II - Data Analyst',\n",
       " 'Junior Data Analyst',\n",
       " 'Data Analyst',\n",
       " 'Product Manager - Data Scientist / Data Analyst',\n",
       " 'Data Analyst',\n",
       " 'Senior Data Analyst',\n",
       " 'Data Analyst',\n",
       " 'Data Analyst',\n",
       " 'Business Data Analyst',\n",
       " 'Business Data Analyst',\n",
       " 'Principal Data Analyst- WSP, Noida ( Immediate Joiners Preferred)',\n",
       " 'Data Analyst',\n",
       " 'Data Analyst',\n",
       " 'Business Data Analyst - Data Structure & Quality',\n",
       " 'Business Data Analyst - Data Structure & Quality',\n",
       " 'Data Analysts - Business Process Management',\n",
       " 'Sr Data Analyst | Fortune 500 Client',\n",
       " 'Senior Data Analyst',\n",
       " 'Senior Data Analyst | Fortune 500 Client',\n",
       " 'Senior Data Analyst I | Fortune 500 Client',\n",
       " 'Data Analyst',\n",
       " 'Data Analyst',\n",
       " 'Merchandising/Data Analyst',\n",
       " 'Data Analyst',\n",
       " 'Data Analyst - ETL/ Data Warehousing',\n",
       " 'Data Analyst',\n",
       " 'Data Analyst',\n",
       " 'Data Analyst',\n",
       " 'Data Analyst - Quant & Data Mining']"
      ]
     },
     "execution_count": 14,
     "metadata": {},
     "output_type": "execute_result"
    }
   ],
   "source": [
    "for i in title2:\n",
    "    Job_Title.append(i.text)\n",
    "Job_Title"
   ]
  },
  {
   "cell_type": "code",
   "execution_count": 15,
   "metadata": {},
   "outputs": [
    {
     "data": {
      "text/plain": [
       "40"
      ]
     },
     "execution_count": 15,
     "metadata": {},
     "output_type": "execute_result"
    }
   ],
   "source": [
    "len(Job_Title)"
   ]
  },
  {
   "cell_type": "code",
   "execution_count": 16,
   "metadata": {},
   "outputs": [
    {
     "data": {
      "text/plain": [
       "[<selenium.webdriver.remote.webelement.WebElement (session=\"db3867c331d67c44cba4732c3faba6ef\", element=\"8866300d-9597-4e4e-834e-4c62180f7403\")>,\n",
       " <selenium.webdriver.remote.webelement.WebElement (session=\"db3867c331d67c44cba4732c3faba6ef\", element=\"c25cd4ef-b523-409b-ae48-797c870fd07c\")>,\n",
       " <selenium.webdriver.remote.webelement.WebElement (session=\"db3867c331d67c44cba4732c3faba6ef\", element=\"d5287aec-ffe1-4328-a9c9-ab585bf9a1a2\")>,\n",
       " <selenium.webdriver.remote.webelement.WebElement (session=\"db3867c331d67c44cba4732c3faba6ef\", element=\"fc1427a8-97b5-4e5f-8565-bd99f6a31d09\")>,\n",
       " <selenium.webdriver.remote.webelement.WebElement (session=\"db3867c331d67c44cba4732c3faba6ef\", element=\"15f70d8b-194b-4e48-9296-0c7623f13660\")>,\n",
       " <selenium.webdriver.remote.webelement.WebElement (session=\"db3867c331d67c44cba4732c3faba6ef\", element=\"3346a4cb-f0c0-404d-856b-95586b6eedb2\")>,\n",
       " <selenium.webdriver.remote.webelement.WebElement (session=\"db3867c331d67c44cba4732c3faba6ef\", element=\"41557a55-0c82-4195-9f5d-4fcc9e0f0820\")>,\n",
       " <selenium.webdriver.remote.webelement.WebElement (session=\"db3867c331d67c44cba4732c3faba6ef\", element=\"9b6d3db1-9106-49e0-8f7a-57d76a9b16b2\")>,\n",
       " <selenium.webdriver.remote.webelement.WebElement (session=\"db3867c331d67c44cba4732c3faba6ef\", element=\"0132abba-9cd9-4833-a43a-7feebd2bff73\")>,\n",
       " <selenium.webdriver.remote.webelement.WebElement (session=\"db3867c331d67c44cba4732c3faba6ef\", element=\"ccb158d5-c136-471e-bb94-73ba56586a47\")>,\n",
       " <selenium.webdriver.remote.webelement.WebElement (session=\"db3867c331d67c44cba4732c3faba6ef\", element=\"4c51a2dc-afa1-445b-afa7-a62131f6b0f9\")>,\n",
       " <selenium.webdriver.remote.webelement.WebElement (session=\"db3867c331d67c44cba4732c3faba6ef\", element=\"a1840381-a553-454e-8465-d30db2cd2a11\")>,\n",
       " <selenium.webdriver.remote.webelement.WebElement (session=\"db3867c331d67c44cba4732c3faba6ef\", element=\"d87a3c23-6a15-4326-8011-083cc0a91deb\")>,\n",
       " <selenium.webdriver.remote.webelement.WebElement (session=\"db3867c331d67c44cba4732c3faba6ef\", element=\"0e020e0c-0e17-4add-aede-35ba2f8248d5\")>,\n",
       " <selenium.webdriver.remote.webelement.WebElement (session=\"db3867c331d67c44cba4732c3faba6ef\", element=\"6eca406a-e5e6-42dc-a581-253333f215c5\")>,\n",
       " <selenium.webdriver.remote.webelement.WebElement (session=\"db3867c331d67c44cba4732c3faba6ef\", element=\"d46cb350-6662-4f2a-90e2-f525601cfc79\")>,\n",
       " <selenium.webdriver.remote.webelement.WebElement (session=\"db3867c331d67c44cba4732c3faba6ef\", element=\"957f3e97-c608-4d2c-99b9-fc027e9e482d\")>,\n",
       " <selenium.webdriver.remote.webelement.WebElement (session=\"db3867c331d67c44cba4732c3faba6ef\", element=\"2305077e-5090-44ac-bffb-8f55dd9e5c8f\")>,\n",
       " <selenium.webdriver.remote.webelement.WebElement (session=\"db3867c331d67c44cba4732c3faba6ef\", element=\"0cff3472-0d94-4448-90ab-c2228ab3c289\")>,\n",
       " <selenium.webdriver.remote.webelement.WebElement (session=\"db3867c331d67c44cba4732c3faba6ef\", element=\"d2dc059a-902d-4744-9dc2-db60df3178d1\")>]"
      ]
     },
     "execution_count": 16,
     "metadata": {},
     "output_type": "execute_result"
    }
   ],
   "source": [
    "location2 =  driver.find_elements_by_xpath(\"//li[@class = 'fleft grey-text br2 placeHolderLi location']\")\n",
    "location2"
   ]
  },
  {
   "cell_type": "code",
   "execution_count": 17,
   "metadata": {},
   "outputs": [
    {
     "data": {
      "text/plain": [
       "['Chennai, Pune, Bengaluru, Hyderabad',\n",
       " 'Delhi NCR, Bengaluru, Hyderabad',\n",
       " 'Chennai, Delhi NCR, Bengaluru',\n",
       " 'Bengaluru',\n",
       " 'Bengaluru',\n",
       " 'Bengaluru',\n",
       " 'Bengaluru',\n",
       " 'Bengaluru',\n",
       " 'Bengaluru',\n",
       " 'Bengaluru(Bellandur)',\n",
       " 'Bengaluru',\n",
       " 'Bengaluru',\n",
       " 'Bengaluru',\n",
       " 'Bengaluru',\n",
       " 'Bengaluru',\n",
       " 'Bengaluru',\n",
       " 'Bengaluru',\n",
       " 'Bengaluru',\n",
       " 'Bengaluru(2nd Phase JP Nagar)',\n",
       " 'Bengaluru',\n",
       " 'Bengaluru',\n",
       " 'Bengaluru, Noida',\n",
       " 'Chennai, Mumbai, Bengaluru',\n",
       " 'Chennai, Delhi NCR, Bengaluru',\n",
       " 'Bengaluru',\n",
       " 'Bengaluru',\n",
       " 'Bengaluru, Hyderabad',\n",
       " 'Bengaluru',\n",
       " 'Bengaluru(5th block Koramangala)',\n",
       " 'Bengaluru',\n",
       " 'Bengaluru',\n",
       " 'Bengaluru',\n",
       " 'Bengaluru',\n",
       " 'Bengaluru',\n",
       " 'Bengaluru',\n",
       " 'Bengaluru',\n",
       " 'Bengaluru',\n",
       " 'Bengaluru(2nd Block Koramangala)',\n",
       " 'Bengaluru',\n",
       " 'Bengaluru']"
      ]
     },
     "execution_count": 17,
     "metadata": {},
     "output_type": "execute_result"
    }
   ],
   "source": [
    "for i in location2:\n",
    "    Location_lists.append(i.text)\n",
    "Location_lists"
   ]
  },
  {
   "cell_type": "code",
   "execution_count": 18,
   "metadata": {},
   "outputs": [
    {
     "data": {
      "text/plain": [
       "[<selenium.webdriver.remote.webelement.WebElement (session=\"db3867c331d67c44cba4732c3faba6ef\", element=\"245ab5b8-fe23-4678-b2b5-ca4ea7a50537\")>,\n",
       " <selenium.webdriver.remote.webelement.WebElement (session=\"db3867c331d67c44cba4732c3faba6ef\", element=\"97e387cd-60ca-42b8-8c1c-527010b5461f\")>,\n",
       " <selenium.webdriver.remote.webelement.WebElement (session=\"db3867c331d67c44cba4732c3faba6ef\", element=\"fb06a2db-89a6-4e46-b70e-f35b627864b7\")>,\n",
       " <selenium.webdriver.remote.webelement.WebElement (session=\"db3867c331d67c44cba4732c3faba6ef\", element=\"93a63c7a-e158-45cd-bf9f-78405972f1d8\")>,\n",
       " <selenium.webdriver.remote.webelement.WebElement (session=\"db3867c331d67c44cba4732c3faba6ef\", element=\"1b1456d8-efb8-4dff-baa3-5dac9b9720e9\")>,\n",
       " <selenium.webdriver.remote.webelement.WebElement (session=\"db3867c331d67c44cba4732c3faba6ef\", element=\"be25ba7c-5593-4dab-adee-bdca41368e54\")>,\n",
       " <selenium.webdriver.remote.webelement.WebElement (session=\"db3867c331d67c44cba4732c3faba6ef\", element=\"512a785d-91d5-42a7-8680-3f148cb849f3\")>,\n",
       " <selenium.webdriver.remote.webelement.WebElement (session=\"db3867c331d67c44cba4732c3faba6ef\", element=\"107bc936-7866-460b-859f-5b4f35e09e4c\")>,\n",
       " <selenium.webdriver.remote.webelement.WebElement (session=\"db3867c331d67c44cba4732c3faba6ef\", element=\"e789aaca-ad04-4665-b1b7-5d4034858f38\")>,\n",
       " <selenium.webdriver.remote.webelement.WebElement (session=\"db3867c331d67c44cba4732c3faba6ef\", element=\"59a56172-d227-445b-81b9-0827fcd9a0af\")>,\n",
       " <selenium.webdriver.remote.webelement.WebElement (session=\"db3867c331d67c44cba4732c3faba6ef\", element=\"feff5e40-c38f-4be3-8c0b-a7f430170916\")>,\n",
       " <selenium.webdriver.remote.webelement.WebElement (session=\"db3867c331d67c44cba4732c3faba6ef\", element=\"a9cefcc7-e909-4795-be6c-e71011c51522\")>,\n",
       " <selenium.webdriver.remote.webelement.WebElement (session=\"db3867c331d67c44cba4732c3faba6ef\", element=\"f51f3f19-6e83-4ccf-8bb5-f7181c9b62a8\")>,\n",
       " <selenium.webdriver.remote.webelement.WebElement (session=\"db3867c331d67c44cba4732c3faba6ef\", element=\"51d04296-913e-4e7b-8400-d0fdd4f6bc23\")>,\n",
       " <selenium.webdriver.remote.webelement.WebElement (session=\"db3867c331d67c44cba4732c3faba6ef\", element=\"b78e7264-1499-41fb-8b00-d24122e703b4\")>,\n",
       " <selenium.webdriver.remote.webelement.WebElement (session=\"db3867c331d67c44cba4732c3faba6ef\", element=\"df12b278-c17a-47f7-a1cb-d5fc2af88392\")>,\n",
       " <selenium.webdriver.remote.webelement.WebElement (session=\"db3867c331d67c44cba4732c3faba6ef\", element=\"22ed90c2-0582-4ac9-be6b-bdbf6266763f\")>,\n",
       " <selenium.webdriver.remote.webelement.WebElement (session=\"db3867c331d67c44cba4732c3faba6ef\", element=\"a51ed28e-04d3-456a-a70a-af81baf76d1a\")>,\n",
       " <selenium.webdriver.remote.webelement.WebElement (session=\"db3867c331d67c44cba4732c3faba6ef\", element=\"3afc2f8b-63f3-47f5-b8f7-9ca001253a61\")>,\n",
       " <selenium.webdriver.remote.webelement.WebElement (session=\"db3867c331d67c44cba4732c3faba6ef\", element=\"847f22a1-d9b7-41f8-836e-e7ab5251eb06\")>]"
      ]
     },
     "execution_count": 18,
     "metadata": {},
     "output_type": "execute_result"
    }
   ],
   "source": [
    "company2 = driver.find_elements_by_xpath(\"//a[@class = 'subTitle ellipsis fleft']\")\n",
    "company2"
   ]
  },
  {
   "cell_type": "code",
   "execution_count": 19,
   "metadata": {},
   "outputs": [
    {
     "data": {
      "text/plain": [
       "['CAIA-Center For Artificial Intelligence & Advanced Analytics',\n",
       " 'Tech Mahindra Ltd.',\n",
       " 'Hk solutions',\n",
       " 'GLOBALFOUNDRIES Engineering Private Limited',\n",
       " 'Flipkart Internet Private Limited',\n",
       " 'Alstom Transport India Ltd.',\n",
       " 'Myntra',\n",
       " 'Ladder of changes',\n",
       " 'Altisource',\n",
       " 'TELEPERFORMANCE GLOBAL SERVICES',\n",
       " 'Oracle India Pvt. Ltd.',\n",
       " 'Philips India Limited',\n",
       " 'Cognizant Technology Solutions India Ltd',\n",
       " 'IBM India Pvt. Limited',\n",
       " 'Fortune HR Consultant',\n",
       " 'Snaphunt',\n",
       " 'Snaphunt',\n",
       " 'Simplify360',\n",
       " 'Liventus, Inc.',\n",
       " 'Kaplan',\n",
       " 'Kaplan Test Prep',\n",
       " 'WSP CONSULTANTS INDIA PRIVATE LIMITED',\n",
       " 'Viteos Capital Market Services Limited',\n",
       " 'dotSolved India Pvt., Ltd.',\n",
       " 'Catalyst',\n",
       " 'Catalyst',\n",
       " 'GlobalHunt India Private Limited',\n",
       " 'ANSR GLOBAL CORPORATION PRIVATE LIMITED',\n",
       " 'Monty Telecom Development Private Limited',\n",
       " 'ANSR GLOBAL CORPORATION PRIVATE LIMITED',\n",
       " 'ANSR GLOBAL CORPORATION PRIVATE LIMITED',\n",
       " 'Simplify360',\n",
       " 'Drishti',\n",
       " 'ExecBoardinAsia',\n",
       " 'Trainingsasaservice',\n",
       " 'Catalyst',\n",
       " 'Pinkerton Consulting & Investigations, Inc.',\n",
       " 'PROZIOD ANALYTICS PRIVATE LIMITED',\n",
       " 'Acko',\n",
       " 'Catalyst']"
      ]
     },
     "execution_count": 19,
     "metadata": {},
     "output_type": "execute_result"
    }
   ],
   "source": [
    "for i in company2:\n",
    "    Company_Names.append(i.text)\n",
    "Company_Names"
   ]
  },
  {
   "cell_type": "code",
   "execution_count": 20,
   "metadata": {},
   "outputs": [
    {
     "data": {
      "text/plain": [
       "[<selenium.webdriver.remote.webelement.WebElement (session=\"db3867c331d67c44cba4732c3faba6ef\", element=\"b31ce4b2-2cca-407e-9612-b4a9d82da84b\")>,\n",
       " <selenium.webdriver.remote.webelement.WebElement (session=\"db3867c331d67c44cba4732c3faba6ef\", element=\"9f5fe113-fdd7-4910-bfe3-b2b5eb162114\")>,\n",
       " <selenium.webdriver.remote.webelement.WebElement (session=\"db3867c331d67c44cba4732c3faba6ef\", element=\"9cbe0661-301a-4f66-89c2-9b6e85b6aade\")>,\n",
       " <selenium.webdriver.remote.webelement.WebElement (session=\"db3867c331d67c44cba4732c3faba6ef\", element=\"a01e789b-a40c-4fd6-81a1-dc5dec63bfcf\")>,\n",
       " <selenium.webdriver.remote.webelement.WebElement (session=\"db3867c331d67c44cba4732c3faba6ef\", element=\"2f9293ee-717b-4226-a459-2027f93fce6e\")>,\n",
       " <selenium.webdriver.remote.webelement.WebElement (session=\"db3867c331d67c44cba4732c3faba6ef\", element=\"41b23dcd-cdb7-496e-b7fa-5a1c47678312\")>,\n",
       " <selenium.webdriver.remote.webelement.WebElement (session=\"db3867c331d67c44cba4732c3faba6ef\", element=\"1df5d3c8-97a8-4952-a55f-7ab51d759de7\")>,\n",
       " <selenium.webdriver.remote.webelement.WebElement (session=\"db3867c331d67c44cba4732c3faba6ef\", element=\"ccb9b0c0-f481-468b-a4c0-808136e226bb\")>,\n",
       " <selenium.webdriver.remote.webelement.WebElement (session=\"db3867c331d67c44cba4732c3faba6ef\", element=\"9c3deff4-778d-478c-9e05-0a18e80d1d90\")>,\n",
       " <selenium.webdriver.remote.webelement.WebElement (session=\"db3867c331d67c44cba4732c3faba6ef\", element=\"8f6a7237-2413-4286-b162-2f2a896166dd\")>,\n",
       " <selenium.webdriver.remote.webelement.WebElement (session=\"db3867c331d67c44cba4732c3faba6ef\", element=\"87044167-0db0-4273-9581-6a97a1923a02\")>,\n",
       " <selenium.webdriver.remote.webelement.WebElement (session=\"db3867c331d67c44cba4732c3faba6ef\", element=\"7daab25a-f732-4f0f-b6ed-a47bd8aa4fbb\")>,\n",
       " <selenium.webdriver.remote.webelement.WebElement (session=\"db3867c331d67c44cba4732c3faba6ef\", element=\"0de957dd-0ad0-4e17-9384-f8fe596efaee\")>,\n",
       " <selenium.webdriver.remote.webelement.WebElement (session=\"db3867c331d67c44cba4732c3faba6ef\", element=\"c46b0434-9e8f-42bb-a534-e1f9e33928db\")>,\n",
       " <selenium.webdriver.remote.webelement.WebElement (session=\"db3867c331d67c44cba4732c3faba6ef\", element=\"23ee8b67-6db7-403d-997e-deb63321a55f\")>,\n",
       " <selenium.webdriver.remote.webelement.WebElement (session=\"db3867c331d67c44cba4732c3faba6ef\", element=\"c6c3e0a0-7e5f-4339-8583-b5675c314ae7\")>,\n",
       " <selenium.webdriver.remote.webelement.WebElement (session=\"db3867c331d67c44cba4732c3faba6ef\", element=\"0d659734-9ac9-4054-914b-5a3d8095f486\")>,\n",
       " <selenium.webdriver.remote.webelement.WebElement (session=\"db3867c331d67c44cba4732c3faba6ef\", element=\"ed50dd2f-1ea2-4a85-9887-74f282c69437\")>,\n",
       " <selenium.webdriver.remote.webelement.WebElement (session=\"db3867c331d67c44cba4732c3faba6ef\", element=\"2921ec37-514c-49d9-9ab5-05ea40f6961d\")>,\n",
       " <selenium.webdriver.remote.webelement.WebElement (session=\"db3867c331d67c44cba4732c3faba6ef\", element=\"5cae7a97-8795-473d-a1be-cec212f5b7ea\")>]"
      ]
     },
     "execution_count": 20,
     "metadata": {},
     "output_type": "execute_result"
    }
   ],
   "source": [
    "experiance2 = driver.find_elements_by_xpath(\"//li[@class = 'fleft grey-text br2 placeHolderLi experience']\")\n",
    "experiance2"
   ]
  },
  {
   "cell_type": "code",
   "execution_count": 21,
   "metadata": {},
   "outputs": [
    {
     "data": {
      "text/plain": [
       "['0-3 Yrs',\n",
       " '7-12 Yrs',\n",
       " '0-3 Yrs',\n",
       " '0-5 Yrs',\n",
       " '2-6 Yrs',\n",
       " '3-8 Yrs',\n",
       " '2-7 Yrs',\n",
       " '0-5 Yrs',\n",
       " '1-6 Yrs',\n",
       " '2-6 Yrs',\n",
       " '3-8 Yrs',\n",
       " '5-7 Yrs',\n",
       " '1-2 Yrs',\n",
       " '5-10 Yrs',\n",
       " '3-8 Yrs',\n",
       " '3-5 Yrs',\n",
       " '4-9 Yrs',\n",
       " '4-5 Yrs',\n",
       " '3-6 Yrs',\n",
       " '2-5 Yrs',\n",
       " '2-5 Yrs',\n",
       " '8-13 Yrs',\n",
       " '7-10 Yrs',\n",
       " '8-13 Yrs',\n",
       " '2-5 Yrs',\n",
       " '2-5 Yrs',\n",
       " '14-17 Yrs',\n",
       " '5-8 Yrs',\n",
       " '3-6 Yrs',\n",
       " '5-8 Yrs',\n",
       " '5-8 Yrs',\n",
       " '3-4 Yrs',\n",
       " '2-7 Yrs',\n",
       " '5-10 Yrs',\n",
       " '2-7 Yrs',\n",
       " '5-9 Yrs',\n",
       " '2-7 Yrs',\n",
       " '1-3 Yrs',\n",
       " '1-2 Yrs',\n",
       " '2-6 Yrs']"
      ]
     },
     "execution_count": 21,
     "metadata": {},
     "output_type": "execute_result"
    }
   ],
   "source": [
    "for i in experiance2:\n",
    "    Experiance_lists.append(i.text)\n",
    "Experiance_lists"
   ]
  },
  {
   "cell_type": "code",
   "execution_count": 22,
   "metadata": {},
   "outputs": [
    {
     "data": {
      "text/plain": [
       "(40, 40, 40, 40)"
      ]
     },
     "execution_count": 22,
     "metadata": {},
     "output_type": "execute_result"
    }
   ],
   "source": [
    "len(Job_Title), len(Location_lists), len(Company_Names) , len(Experiance_lists)"
   ]
  },
  {
   "cell_type": "code",
   "execution_count": 23,
   "metadata": {},
   "outputs": [
    {
     "data": {
      "text/html": [
       "<div>\n",
       "<style scoped>\n",
       "    .dataframe tbody tr th:only-of-type {\n",
       "        vertical-align: middle;\n",
       "    }\n",
       "\n",
       "    .dataframe tbody tr th {\n",
       "        vertical-align: top;\n",
       "    }\n",
       "\n",
       "    .dataframe thead th {\n",
       "        text-align: right;\n",
       "    }\n",
       "</style>\n",
       "<table border=\"1\" class=\"dataframe\">\n",
       "  <thead>\n",
       "    <tr style=\"text-align: right;\">\n",
       "      <th></th>\n",
       "      <th>title</th>\n",
       "      <th>location</th>\n",
       "      <th>company</th>\n",
       "      <th>experiance</th>\n",
       "    </tr>\n",
       "  </thead>\n",
       "  <tbody>\n",
       "    <tr>\n",
       "      <th>0</th>\n",
       "      <td>Immediate opening For Data Scientist/Data Analyst</td>\n",
       "      <td>Chennai, Pune, Bengaluru, Hyderabad</td>\n",
       "      <td>CAIA-Center For Artificial Intelligence &amp; Adva...</td>\n",
       "      <td>0-3 Yrs</td>\n",
       "    </tr>\n",
       "    <tr>\n",
       "      <th>1</th>\n",
       "      <td>Business Analyst and Data Analyst</td>\n",
       "      <td>Delhi NCR, Bengaluru, Hyderabad</td>\n",
       "      <td>Tech Mahindra Ltd.</td>\n",
       "      <td>7-12 Yrs</td>\n",
       "    </tr>\n",
       "    <tr>\n",
       "      <th>2</th>\n",
       "      <td>Data Analyst</td>\n",
       "      <td>Chennai, Delhi NCR, Bengaluru</td>\n",
       "      <td>Hk solutions</td>\n",
       "      <td>0-3 Yrs</td>\n",
       "    </tr>\n",
       "    <tr>\n",
       "      <th>3</th>\n",
       "      <td>Intern - DFM Data Analyst</td>\n",
       "      <td>Bengaluru</td>\n",
       "      <td>GLOBALFOUNDRIES Engineering Private Limited</td>\n",
       "      <td>0-5 Yrs</td>\n",
       "    </tr>\n",
       "    <tr>\n",
       "      <th>4</th>\n",
       "      <td>Hiring Data Analysts on Contract Third party p...</td>\n",
       "      <td>Bengaluru</td>\n",
       "      <td>Flipkart Internet Private Limited</td>\n",
       "      <td>2-6 Yrs</td>\n",
       "    </tr>\n",
       "    <tr>\n",
       "      <th>5</th>\n",
       "      <td>Reliability Data Analyst</td>\n",
       "      <td>Bengaluru</td>\n",
       "      <td>Alstom Transport India Ltd.</td>\n",
       "      <td>3-8 Yrs</td>\n",
       "    </tr>\n",
       "    <tr>\n",
       "      <th>6</th>\n",
       "      <td>Senior Data Analyst</td>\n",
       "      <td>Bengaluru</td>\n",
       "      <td>Myntra</td>\n",
       "      <td>2-7 Yrs</td>\n",
       "    </tr>\n",
       "    <tr>\n",
       "      <th>7</th>\n",
       "      <td>Data Analyst</td>\n",
       "      <td>Bengaluru</td>\n",
       "      <td>Ladder of changes</td>\n",
       "      <td>0-5 Yrs</td>\n",
       "    </tr>\n",
       "    <tr>\n",
       "      <th>8</th>\n",
       "      <td>Data Analyst / Business Analyst</td>\n",
       "      <td>Bengaluru</td>\n",
       "      <td>Altisource</td>\n",
       "      <td>1-6 Yrs</td>\n",
       "    </tr>\n",
       "    <tr>\n",
       "      <th>9</th>\n",
       "      <td>Hiring For Data Analyst RE) - Bangalore</td>\n",
       "      <td>Bengaluru(Bellandur)</td>\n",
       "      <td>TELEPERFORMANCE GLOBAL SERVICES</td>\n",
       "      <td>2-6 Yrs</td>\n",
       "    </tr>\n",
       "    <tr>\n",
       "      <th>10</th>\n",
       "      <td>Data Analyst (Telcom domain)</td>\n",
       "      <td>Bengaluru</td>\n",
       "      <td>Oracle India Pvt. Ltd.</td>\n",
       "      <td>3-8 Yrs</td>\n",
       "    </tr>\n",
       "    <tr>\n",
       "      <th>11</th>\n",
       "      <td>Specialist I / II - Data Analyst</td>\n",
       "      <td>Bengaluru</td>\n",
       "      <td>Philips India Limited</td>\n",
       "      <td>5-7 Yrs</td>\n",
       "    </tr>\n",
       "    <tr>\n",
       "      <th>12</th>\n",
       "      <td>Junior Data Analyst</td>\n",
       "      <td>Bengaluru</td>\n",
       "      <td>Cognizant Technology Solutions India Ltd</td>\n",
       "      <td>1-2 Yrs</td>\n",
       "    </tr>\n",
       "    <tr>\n",
       "      <th>13</th>\n",
       "      <td>Data Analyst</td>\n",
       "      <td>Bengaluru</td>\n",
       "      <td>IBM India Pvt. Limited</td>\n",
       "      <td>5-10 Yrs</td>\n",
       "    </tr>\n",
       "    <tr>\n",
       "      <th>14</th>\n",
       "      <td>Product Manager - Data Scientist / Data Analyst</td>\n",
       "      <td>Bengaluru</td>\n",
       "      <td>Fortune HR Consultant</td>\n",
       "      <td>3-8 Yrs</td>\n",
       "    </tr>\n",
       "    <tr>\n",
       "      <th>15</th>\n",
       "      <td>Data Analyst</td>\n",
       "      <td>Bengaluru</td>\n",
       "      <td>Snaphunt</td>\n",
       "      <td>3-5 Yrs</td>\n",
       "    </tr>\n",
       "    <tr>\n",
       "      <th>16</th>\n",
       "      <td>Senior Data Analyst</td>\n",
       "      <td>Bengaluru</td>\n",
       "      <td>Snaphunt</td>\n",
       "      <td>4-9 Yrs</td>\n",
       "    </tr>\n",
       "    <tr>\n",
       "      <th>17</th>\n",
       "      <td>Data Analyst</td>\n",
       "      <td>Bengaluru</td>\n",
       "      <td>Simplify360</td>\n",
       "      <td>4-5 Yrs</td>\n",
       "    </tr>\n",
       "    <tr>\n",
       "      <th>18</th>\n",
       "      <td>Data Analyst</td>\n",
       "      <td>Bengaluru(2nd Phase JP Nagar)</td>\n",
       "      <td>Liventus, Inc.</td>\n",
       "      <td>3-6 Yrs</td>\n",
       "    </tr>\n",
       "    <tr>\n",
       "      <th>19</th>\n",
       "      <td>Business Data Analyst</td>\n",
       "      <td>Bengaluru</td>\n",
       "      <td>Kaplan</td>\n",
       "      <td>2-5 Yrs</td>\n",
       "    </tr>\n",
       "    <tr>\n",
       "      <th>20</th>\n",
       "      <td>Business Data Analyst</td>\n",
       "      <td>Bengaluru</td>\n",
       "      <td>Kaplan Test Prep</td>\n",
       "      <td>2-5 Yrs</td>\n",
       "    </tr>\n",
       "    <tr>\n",
       "      <th>21</th>\n",
       "      <td>Principal Data Analyst- WSP, Noida ( Immediate...</td>\n",
       "      <td>Bengaluru, Noida</td>\n",
       "      <td>WSP CONSULTANTS INDIA PRIVATE LIMITED</td>\n",
       "      <td>8-13 Yrs</td>\n",
       "    </tr>\n",
       "    <tr>\n",
       "      <th>22</th>\n",
       "      <td>Data Analyst</td>\n",
       "      <td>Chennai, Mumbai, Bengaluru</td>\n",
       "      <td>Viteos Capital Market Services Limited</td>\n",
       "      <td>7-10 Yrs</td>\n",
       "    </tr>\n",
       "    <tr>\n",
       "      <th>23</th>\n",
       "      <td>Data Analyst</td>\n",
       "      <td>Chennai, Delhi NCR, Bengaluru</td>\n",
       "      <td>dotSolved India Pvt., Ltd.</td>\n",
       "      <td>8-13 Yrs</td>\n",
       "    </tr>\n",
       "    <tr>\n",
       "      <th>24</th>\n",
       "      <td>Business Data Analyst - Data Structure &amp; Quality</td>\n",
       "      <td>Bengaluru</td>\n",
       "      <td>Catalyst</td>\n",
       "      <td>2-5 Yrs</td>\n",
       "    </tr>\n",
       "    <tr>\n",
       "      <th>25</th>\n",
       "      <td>Business Data Analyst - Data Structure &amp; Quality</td>\n",
       "      <td>Bengaluru</td>\n",
       "      <td>Catalyst</td>\n",
       "      <td>2-5 Yrs</td>\n",
       "    </tr>\n",
       "    <tr>\n",
       "      <th>26</th>\n",
       "      <td>Data Analysts - Business Process Management</td>\n",
       "      <td>Bengaluru, Hyderabad</td>\n",
       "      <td>GlobalHunt India Private Limited</td>\n",
       "      <td>14-17 Yrs</td>\n",
       "    </tr>\n",
       "    <tr>\n",
       "      <th>27</th>\n",
       "      <td>Sr Data Analyst | Fortune 500 Client</td>\n",
       "      <td>Bengaluru</td>\n",
       "      <td>ANSR GLOBAL CORPORATION PRIVATE LIMITED</td>\n",
       "      <td>5-8 Yrs</td>\n",
       "    </tr>\n",
       "    <tr>\n",
       "      <th>28</th>\n",
       "      <td>Senior Data Analyst</td>\n",
       "      <td>Bengaluru(5th block Koramangala)</td>\n",
       "      <td>Monty Telecom Development Private Limited</td>\n",
       "      <td>3-6 Yrs</td>\n",
       "    </tr>\n",
       "    <tr>\n",
       "      <th>29</th>\n",
       "      <td>Senior Data Analyst | Fortune 500 Client</td>\n",
       "      <td>Bengaluru</td>\n",
       "      <td>ANSR GLOBAL CORPORATION PRIVATE LIMITED</td>\n",
       "      <td>5-8 Yrs</td>\n",
       "    </tr>\n",
       "    <tr>\n",
       "      <th>30</th>\n",
       "      <td>Senior Data Analyst I | Fortune 500 Client</td>\n",
       "      <td>Bengaluru</td>\n",
       "      <td>ANSR GLOBAL CORPORATION PRIVATE LIMITED</td>\n",
       "      <td>5-8 Yrs</td>\n",
       "    </tr>\n",
       "    <tr>\n",
       "      <th>31</th>\n",
       "      <td>Data Analyst</td>\n",
       "      <td>Bengaluru</td>\n",
       "      <td>Simplify360</td>\n",
       "      <td>3-4 Yrs</td>\n",
       "    </tr>\n",
       "    <tr>\n",
       "      <th>32</th>\n",
       "      <td>Data Analyst</td>\n",
       "      <td>Bengaluru</td>\n",
       "      <td>Drishti</td>\n",
       "      <td>2-7 Yrs</td>\n",
       "    </tr>\n",
       "    <tr>\n",
       "      <th>33</th>\n",
       "      <td>Merchandising/Data Analyst</td>\n",
       "      <td>Bengaluru</td>\n",
       "      <td>ExecBoardinAsia</td>\n",
       "      <td>5-10 Yrs</td>\n",
       "    </tr>\n",
       "    <tr>\n",
       "      <th>34</th>\n",
       "      <td>Data Analyst</td>\n",
       "      <td>Bengaluru</td>\n",
       "      <td>Trainingsasaservice</td>\n",
       "      <td>2-7 Yrs</td>\n",
       "    </tr>\n",
       "    <tr>\n",
       "      <th>35</th>\n",
       "      <td>Data Analyst - ETL/ Data Warehousing</td>\n",
       "      <td>Bengaluru</td>\n",
       "      <td>Catalyst</td>\n",
       "      <td>5-9 Yrs</td>\n",
       "    </tr>\n",
       "    <tr>\n",
       "      <th>36</th>\n",
       "      <td>Data Analyst</td>\n",
       "      <td>Bengaluru</td>\n",
       "      <td>Pinkerton Consulting &amp; Investigations, Inc.</td>\n",
       "      <td>2-7 Yrs</td>\n",
       "    </tr>\n",
       "    <tr>\n",
       "      <th>37</th>\n",
       "      <td>Data Analyst</td>\n",
       "      <td>Bengaluru(2nd Block Koramangala)</td>\n",
       "      <td>PROZIOD ANALYTICS PRIVATE LIMITED</td>\n",
       "      <td>1-3 Yrs</td>\n",
       "    </tr>\n",
       "    <tr>\n",
       "      <th>38</th>\n",
       "      <td>Data Analyst</td>\n",
       "      <td>Bengaluru</td>\n",
       "      <td>Acko</td>\n",
       "      <td>1-2 Yrs</td>\n",
       "    </tr>\n",
       "    <tr>\n",
       "      <th>39</th>\n",
       "      <td>Data Analyst - Quant &amp; Data Mining</td>\n",
       "      <td>Bengaluru</td>\n",
       "      <td>Catalyst</td>\n",
       "      <td>2-6 Yrs</td>\n",
       "    </tr>\n",
       "  </tbody>\n",
       "</table>\n",
       "</div>"
      ],
      "text/plain": [
       "                                                title  \\\n",
       "0   Immediate opening For Data Scientist/Data Analyst   \n",
       "1                   Business Analyst and Data Analyst   \n",
       "2                                        Data Analyst   \n",
       "3                           Intern - DFM Data Analyst   \n",
       "4   Hiring Data Analysts on Contract Third party p...   \n",
       "5                            Reliability Data Analyst   \n",
       "6                                 Senior Data Analyst   \n",
       "7                                        Data Analyst   \n",
       "8                     Data Analyst / Business Analyst   \n",
       "9             Hiring For Data Analyst RE) - Bangalore   \n",
       "10                       Data Analyst (Telcom domain)   \n",
       "11                   Specialist I / II - Data Analyst   \n",
       "12                                Junior Data Analyst   \n",
       "13                                       Data Analyst   \n",
       "14    Product Manager - Data Scientist / Data Analyst   \n",
       "15                                       Data Analyst   \n",
       "16                                Senior Data Analyst   \n",
       "17                                       Data Analyst   \n",
       "18                                       Data Analyst   \n",
       "19                              Business Data Analyst   \n",
       "20                              Business Data Analyst   \n",
       "21  Principal Data Analyst- WSP, Noida ( Immediate...   \n",
       "22                                       Data Analyst   \n",
       "23                                       Data Analyst   \n",
       "24   Business Data Analyst - Data Structure & Quality   \n",
       "25   Business Data Analyst - Data Structure & Quality   \n",
       "26        Data Analysts - Business Process Management   \n",
       "27               Sr Data Analyst | Fortune 500 Client   \n",
       "28                                Senior Data Analyst   \n",
       "29           Senior Data Analyst | Fortune 500 Client   \n",
       "30         Senior Data Analyst I | Fortune 500 Client   \n",
       "31                                       Data Analyst   \n",
       "32                                       Data Analyst   \n",
       "33                         Merchandising/Data Analyst   \n",
       "34                                       Data Analyst   \n",
       "35               Data Analyst - ETL/ Data Warehousing   \n",
       "36                                       Data Analyst   \n",
       "37                                       Data Analyst   \n",
       "38                                       Data Analyst   \n",
       "39                 Data Analyst - Quant & Data Mining   \n",
       "\n",
       "                               location  \\\n",
       "0   Chennai, Pune, Bengaluru, Hyderabad   \n",
       "1       Delhi NCR, Bengaluru, Hyderabad   \n",
       "2         Chennai, Delhi NCR, Bengaluru   \n",
       "3                             Bengaluru   \n",
       "4                             Bengaluru   \n",
       "5                             Bengaluru   \n",
       "6                             Bengaluru   \n",
       "7                             Bengaluru   \n",
       "8                             Bengaluru   \n",
       "9                  Bengaluru(Bellandur)   \n",
       "10                            Bengaluru   \n",
       "11                            Bengaluru   \n",
       "12                            Bengaluru   \n",
       "13                            Bengaluru   \n",
       "14                            Bengaluru   \n",
       "15                            Bengaluru   \n",
       "16                            Bengaluru   \n",
       "17                            Bengaluru   \n",
       "18        Bengaluru(2nd Phase JP Nagar)   \n",
       "19                            Bengaluru   \n",
       "20                            Bengaluru   \n",
       "21                     Bengaluru, Noida   \n",
       "22           Chennai, Mumbai, Bengaluru   \n",
       "23        Chennai, Delhi NCR, Bengaluru   \n",
       "24                            Bengaluru   \n",
       "25                            Bengaluru   \n",
       "26                 Bengaluru, Hyderabad   \n",
       "27                            Bengaluru   \n",
       "28     Bengaluru(5th block Koramangala)   \n",
       "29                            Bengaluru   \n",
       "30                            Bengaluru   \n",
       "31                            Bengaluru   \n",
       "32                            Bengaluru   \n",
       "33                            Bengaluru   \n",
       "34                            Bengaluru   \n",
       "35                            Bengaluru   \n",
       "36                            Bengaluru   \n",
       "37     Bengaluru(2nd Block Koramangala)   \n",
       "38                            Bengaluru   \n",
       "39                            Bengaluru   \n",
       "\n",
       "                                              company experiance  \n",
       "0   CAIA-Center For Artificial Intelligence & Adva...    0-3 Yrs  \n",
       "1                                  Tech Mahindra Ltd.   7-12 Yrs  \n",
       "2                                        Hk solutions    0-3 Yrs  \n",
       "3         GLOBALFOUNDRIES Engineering Private Limited    0-5 Yrs  \n",
       "4                   Flipkart Internet Private Limited    2-6 Yrs  \n",
       "5                         Alstom Transport India Ltd.    3-8 Yrs  \n",
       "6                                              Myntra    2-7 Yrs  \n",
       "7                                   Ladder of changes    0-5 Yrs  \n",
       "8                                          Altisource    1-6 Yrs  \n",
       "9                     TELEPERFORMANCE GLOBAL SERVICES    2-6 Yrs  \n",
       "10                             Oracle India Pvt. Ltd.    3-8 Yrs  \n",
       "11                              Philips India Limited    5-7 Yrs  \n",
       "12           Cognizant Technology Solutions India Ltd    1-2 Yrs  \n",
       "13                             IBM India Pvt. Limited   5-10 Yrs  \n",
       "14                              Fortune HR Consultant    3-8 Yrs  \n",
       "15                                           Snaphunt    3-5 Yrs  \n",
       "16                                           Snaphunt    4-9 Yrs  \n",
       "17                                        Simplify360    4-5 Yrs  \n",
       "18                                     Liventus, Inc.    3-6 Yrs  \n",
       "19                                             Kaplan    2-5 Yrs  \n",
       "20                                   Kaplan Test Prep    2-5 Yrs  \n",
       "21              WSP CONSULTANTS INDIA PRIVATE LIMITED   8-13 Yrs  \n",
       "22             Viteos Capital Market Services Limited   7-10 Yrs  \n",
       "23                         dotSolved India Pvt., Ltd.   8-13 Yrs  \n",
       "24                                           Catalyst    2-5 Yrs  \n",
       "25                                           Catalyst    2-5 Yrs  \n",
       "26                   GlobalHunt India Private Limited  14-17 Yrs  \n",
       "27            ANSR GLOBAL CORPORATION PRIVATE LIMITED    5-8 Yrs  \n",
       "28          Monty Telecom Development Private Limited    3-6 Yrs  \n",
       "29            ANSR GLOBAL CORPORATION PRIVATE LIMITED    5-8 Yrs  \n",
       "30            ANSR GLOBAL CORPORATION PRIVATE LIMITED    5-8 Yrs  \n",
       "31                                        Simplify360    3-4 Yrs  \n",
       "32                                            Drishti    2-7 Yrs  \n",
       "33                                    ExecBoardinAsia   5-10 Yrs  \n",
       "34                                Trainingsasaservice    2-7 Yrs  \n",
       "35                                           Catalyst    5-9 Yrs  \n",
       "36        Pinkerton Consulting & Investigations, Inc.    2-7 Yrs  \n",
       "37                  PROZIOD ANALYTICS PRIVATE LIMITED    1-3 Yrs  \n",
       "38                                               Acko    1-2 Yrs  \n",
       "39                                           Catalyst    2-6 Yrs  "
      ]
     },
     "execution_count": 23,
     "metadata": {},
     "output_type": "execute_result"
    }
   ],
   "source": [
    "#creating empty DataFrame\n",
    "Jobs = pd.DataFrame({})\n",
    "Jobs['title'] = Job_Title\n",
    "Jobs['location'] = Location_lists\n",
    "Jobs['company'] = Company_Names\n",
    "Jobs['experiance'] = Experiance_lists\n",
    "\n",
    "Jobs"
   ]
  },
  {
   "cell_type": "raw",
   "metadata": {},
   "source": []
  },
  {
   "cell_type": "raw",
   "metadata": {},
   "source": []
  },
  {
   "cell_type": "raw",
   "metadata": {},
   "source": []
  },
  {
   "cell_type": "markdown",
   "metadata": {},
   "source": [
    "# Q2: Write a python program to scrape data for “Data Scientist” Job position in“Bangalore” location. You have to scrape the job-title, job-location,company_name, full job-description. You have to scrape first 10 jobs data"
   ]
  },
  {
   "cell_type": "code",
   "execution_count": 1,
   "metadata": {},
   "outputs": [],
   "source": [
    "#importing required Liabraries\n",
    "import selenium\n",
    "import pandas as pd\n",
    "from selenium import webdriver"
   ]
  },
  {
   "cell_type": "code",
   "execution_count": 2,
   "metadata": {},
   "outputs": [],
   "source": [
    "#connecting to web driver\n",
    "driver = webdriver.Chrome(r'G:\\chromedriver.exe')\n",
    "\n",
    "url = \"https://www.naukri.com/data-scientist-jobs-in-bangalore?k=Data%20Scientist&l=bangalore\"\n",
    "\n",
    "driver.get(url)"
   ]
  },
  {
   "cell_type": "code",
   "execution_count": 3,
   "metadata": {},
   "outputs": [],
   "source": [
    "Job_Title =[]\n",
    "Location_lists = []\n",
    "Company_Names = []\n",
    "Experiance_lists = []\n",
    "job_description = []"
   ]
  },
  {
   "cell_type": "code",
   "execution_count": 4,
   "metadata": {},
   "outputs": [
    {
     "data": {
      "text/plain": [
       "[<selenium.webdriver.remote.webelement.WebElement (session=\"d8f75ba1f53a58d371a29ea1c3342ff6\", element=\"e45f0765-faa2-4426-b449-eb3fdb88f726\")>]"
      ]
     },
     "execution_count": 4,
     "metadata": {},
     "output_type": "execute_result"
    }
   ],
   "source": [
    "title = driver.find_elements_by_xpath(\"//a[@class = 'title fw500 ellipsis']\")\n",
    "title[0:1]"
   ]
  },
  {
   "cell_type": "code",
   "execution_count": 5,
   "metadata": {},
   "outputs": [
    {
     "data": {
      "text/plain": [
       "['Immediate opening For Data Scientist/Data Analyst']"
      ]
     },
     "execution_count": 5,
     "metadata": {},
     "output_type": "execute_result"
    }
   ],
   "source": [
    "for i in title:\n",
    "    Job_Title.append(i.text)\n",
    "Job_Title[0:1]"
   ]
  },
  {
   "cell_type": "code",
   "execution_count": 6,
   "metadata": {},
   "outputs": [
    {
     "data": {
      "text/plain": [
       "[<selenium.webdriver.remote.webelement.WebElement (session=\"d8f75ba1f53a58d371a29ea1c3342ff6\", element=\"590068d2-3e86-4dba-b629-a7dedd66dd81\")>]"
      ]
     },
     "execution_count": 6,
     "metadata": {},
     "output_type": "execute_result"
    }
   ],
   "source": [
    "location =  driver.find_elements_by_xpath(\"//li[@class = 'fleft grey-text br2 placeHolderLi location']\")\n",
    "location[0:1]"
   ]
  },
  {
   "cell_type": "code",
   "execution_count": 7,
   "metadata": {},
   "outputs": [
    {
     "data": {
      "text/plain": [
       "['Chennai, Pune, Bengaluru, Hyderabad']"
      ]
     },
     "execution_count": 7,
     "metadata": {},
     "output_type": "execute_result"
    }
   ],
   "source": [
    "for i in location:\n",
    "    Location_lists.append(i.text)\n",
    "Location_lists[0:1]"
   ]
  },
  {
   "cell_type": "code",
   "execution_count": 8,
   "metadata": {},
   "outputs": [
    {
     "data": {
      "text/plain": [
       "[<selenium.webdriver.remote.webelement.WebElement (session=\"d8f75ba1f53a58d371a29ea1c3342ff6\", element=\"21c9761e-797b-4a11-83b5-73adf157def4\")>]"
      ]
     },
     "execution_count": 8,
     "metadata": {},
     "output_type": "execute_result"
    }
   ],
   "source": [
    "company = driver.find_elements_by_xpath(\"//a[@class = 'subTitle ellipsis fleft']\")\n",
    "company[0:1]"
   ]
  },
  {
   "cell_type": "code",
   "execution_count": 9,
   "metadata": {},
   "outputs": [
    {
     "data": {
      "text/plain": [
       "['CAIA-Center For Artificial Intelligence & Advanced Analytics']"
      ]
     },
     "execution_count": 9,
     "metadata": {},
     "output_type": "execute_result"
    }
   ],
   "source": [
    "for i in company:\n",
    "    Company_Names.append(i.text)\n",
    "Company_Names[0:1]"
   ]
  },
  {
   "cell_type": "code",
   "execution_count": 10,
   "metadata": {},
   "outputs": [
    {
     "data": {
      "text/plain": [
       "[<selenium.webdriver.remote.webelement.WebElement (session=\"d8f75ba1f53a58d371a29ea1c3342ff6\", element=\"4ba78853-f60f-468b-826a-5c6cf1d96e36\")>]"
      ]
     },
     "execution_count": 10,
     "metadata": {},
     "output_type": "execute_result"
    }
   ],
   "source": [
    "experiance = driver.find_elements_by_xpath(\"//li[@class = 'fleft grey-text br2 placeHolderLi experience']\")\n",
    "experiance[0:1]"
   ]
  },
  {
   "cell_type": "code",
   "execution_count": 11,
   "metadata": {},
   "outputs": [
    {
     "data": {
      "text/plain": [
       "['0-3 Yrs']"
      ]
     },
     "execution_count": 11,
     "metadata": {},
     "output_type": "execute_result"
    }
   ],
   "source": [
    "for i in experiance:\n",
    "    Experiance_lists.append(i.text)\n",
    "Experiance_lists[0:1]"
   ]
  },
  {
   "cell_type": "code",
   "execution_count": 22,
   "metadata": {},
   "outputs": [
    {
     "data": {
      "text/plain": [
       "[<selenium.webdriver.remote.webelement.WebElement (session=\"ad72a036af5f124cdd933d7d537d72b3\", element=\"1c3686d8-3db6-4311-82c2-c92a19cceddc\")>]"
      ]
     },
     "execution_count": 22,
     "metadata": {},
     "output_type": "execute_result"
    }
   ],
   "source": [
    "description1 =driver.find_elements_by_xpath(\"/html/body/div/div[3]/div[2]/section[2]/div[2]/article[1]/div[1]\")\n",
    "description1"
   ]
  },
  {
   "cell_type": "code",
   "execution_count": 25,
   "metadata": {},
   "outputs": [
    {
     "data": {
      "text/plain": [
       "['CAIA-Center For Artificial Intelligence & Advanced Analytics',\n",
       " 'Flipkart',\n",
       " '24/7 Customer',\n",
       " 'RANDSTAD INDIA PVT LTD',\n",
       " 'ORMAE LLP',\n",
       " 'NetApp',\n",
       " 'Shell India Markets Private Limited',\n",
       " 'IBM India Pvt. Limited',\n",
       " 'Leading Data Science Firm',\n",
       " 'Kinara Capital',\n",
       " 'Indegene',\n",
       " 'GlobusSoft',\n",
       " 'RANDSTAD INDIA PVT LTD',\n",
       " 'Infoblox',\n",
       " 'WalletHub',\n",
       " 'Axis Bank',\n",
       " 'Fortune HR Consultant',\n",
       " 'Bion',\n",
       " 'Bion',\n",
       " 'Viteos Capital Market Services Limited',\n",
       " 'Immediate opening For Data Scientist/Data Analyst\\nCAIA-Center For Artificial Intelligence & Advanced Analytics\\n0-3 Yrs\\n3,50,000 - 4,50,000 PA.\\nChennai, Pune, Bengaluru, Hyderabad',\n",
       " 'Immediate opening For Data Scientist/Data Analyst\\nCAIA-Center For Artificial Intelligence & Advanced Analytics\\n0-3 Yrs\\n3,50,000 - 4,50,000 PA.\\nChennai, Pune, Bengaluru, Hyderabad']"
      ]
     },
     "execution_count": 25,
     "metadata": {},
     "output_type": "execute_result"
    }
   ],
   "source": [
    "for i in description1:\n",
    "    job_description.append(i.text)\n",
    "job_description"
   ]
  },
  {
   "cell_type": "code",
   "execution_count": null,
   "metadata": {},
   "outputs": [],
   "source": []
  },
  {
   "cell_type": "code",
   "execution_count": null,
   "metadata": {},
   "outputs": [],
   "source": []
  }
 ],
 "metadata": {
  "kernelspec": {
   "display_name": "Python 3",
   "language": "python",
   "name": "python3"
  },
  "language_info": {
   "codemirror_mode": {
    "name": "ipython",
    "version": 3
   },
   "file_extension": ".py",
   "mimetype": "text/x-python",
   "name": "python",
   "nbconvert_exporter": "python",
   "pygments_lexer": "ipython3",
   "version": "3.8.3"
  }
 },
 "nbformat": 4,
 "nbformat_minor": 4
}
